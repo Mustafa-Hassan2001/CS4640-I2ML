{
  "nbformat": 4,
  "nbformat_minor": 0,
  "metadata": {
    "colab": {
      "provenance": []
    },
    "kernelspec": {
      "name": "python3",
      "display_name": "Python 3"
    },
    "language_info": {
      "name": "python"
    }
  },
  "cells": [
    {
      "cell_type": "markdown",
      "source": [
        "# Lecture no : 01"
      ],
      "metadata": {
        "id": "ELZmFMGm7Weo"
      }
    },
    {
      "cell_type": "markdown",
      "source": [
        "####################################################\n",
        "## 0. Comments\n",
        "####################################################"
      ],
      "metadata": {
        "id": "DHr3cHKNbNM3"
      }
    },
    {
      "cell_type": "code",
      "source": [
        "# Single line comments start with a number symbol.\n",
        "\n",
        "\"\"\" Multiline strings can be written\n",
        "    using three \"s, and are often used\n",
        "    as documentation.\n",
        "\"\"\"\n"
      ],
      "metadata": {
        "id": "Wzpf_eZpaSgF",
        "colab": {
          "base_uri": "https://localhost:8080/",
          "height": 36
        },
        "outputId": "6ad54522-1f32-456d-8292-0679d720102c"
      },
      "execution_count": null,
      "outputs": [
        {
          "output_type": "execute_result",
          "data": {
            "text/plain": [
              "' Multiline strings can be written\\n    using three \"s, and are often used\\n    as documentation.\\n'"
            ],
            "application/vnd.google.colaboratory.intrinsic+json": {
              "type": "string"
            }
          },
          "metadata": {},
          "execution_count": 1
        }
      ]
    },
    {
      "cell_type": "code",
      "source": [],
      "metadata": {
        "id": "Z23hfB3GbhWV"
      },
      "execution_count": null,
      "outputs": []
    },
    {
      "cell_type": "markdown",
      "source": [
        "####################################################\n",
        "## 1. Primitive Datatypes and Operators\n",
        "####################################################"
      ],
      "metadata": {
        "id": "djnQ5ivlaD1D"
      }
    },
    {
      "cell_type": "code",
      "source": [
        "\n",
        "# You have numbers\n",
        "3  # => 3"
      ],
      "metadata": {
        "colab": {
          "base_uri": "https://localhost:8080/"
        },
        "id": "aLE-mqgybVBt",
        "outputId": "d5c337a6-7306-490a-da3b-4773349ab06f"
      },
      "execution_count": null,
      "outputs": [
        {
          "output_type": "execute_result",
          "data": {
            "text/plain": [
              "3"
            ]
          },
          "metadata": {},
          "execution_count": 2
        }
      ]
    },
    {
      "cell_type": "code",
      "source": [
        "# Math is what you would expect\n",
        "1 + 1   # => 2"
      ],
      "metadata": {
        "colab": {
          "base_uri": "https://localhost:8080/"
        },
        "id": "yo-MdrAxbkk9",
        "outputId": "9f46eb8b-a3c8-497e-adc6-0498e885bbf0"
      },
      "execution_count": null,
      "outputs": [
        {
          "output_type": "execute_result",
          "data": {
            "text/plain": [
              "2"
            ]
          },
          "metadata": {},
          "execution_count": 3
        }
      ]
    },
    {
      "cell_type": "code",
      "source": [
        "8 - 1   # => 7"
      ],
      "metadata": {
        "colab": {
          "base_uri": "https://localhost:8080/"
        },
        "id": "-HvMKlTsboOG",
        "outputId": "cd2c62b7-9505-4eee-9177-837c1e4c1953"
      },
      "execution_count": null,
      "outputs": [
        {
          "output_type": "execute_result",
          "data": {
            "text/plain": [
              "7"
            ]
          },
          "metadata": {},
          "execution_count": 4
        }
      ]
    },
    {
      "cell_type": "code",
      "source": [
        "10 * 2  # => 20"
      ],
      "metadata": {
        "colab": {
          "base_uri": "https://localhost:8080/"
        },
        "id": "A4kEd_jHbpWF",
        "outputId": "dbb901ee-db90-4191-8c6d-5c8cb51d4f51"
      },
      "execution_count": null,
      "outputs": [
        {
          "output_type": "execute_result",
          "data": {
            "text/plain": [
              "20"
            ]
          },
          "metadata": {},
          "execution_count": 5
        }
      ]
    },
    {
      "cell_type": "code",
      "source": [
        "35 / 5  # => 7.0"
      ],
      "metadata": {
        "colab": {
          "base_uri": "https://localhost:8080/"
        },
        "id": "8QuePVAobiEv",
        "outputId": "14b11b33-1871-4dd9-b6c2-93066549d1fc"
      },
      "execution_count": null,
      "outputs": [
        {
          "output_type": "execute_result",
          "data": {
            "text/plain": [
              "7.0"
            ]
          },
          "metadata": {},
          "execution_count": 6
        }
      ]
    },
    {
      "cell_type": "code",
      "source": [
        "# Integer division rounds down for both positive and negative numbers.\n",
        "5 // 3       # => 1"
      ],
      "metadata": {
        "colab": {
          "base_uri": "https://localhost:8080/"
        },
        "id": "8OChlZC2bmB4",
        "outputId": "03666180-5da2-4878-db91-0298f8879d27"
      },
      "execution_count": null,
      "outputs": [
        {
          "output_type": "execute_result",
          "data": {
            "text/plain": [
              "1"
            ]
          },
          "metadata": {},
          "execution_count": 7
        }
      ]
    },
    {
      "cell_type": "code",
      "source": [
        "-5 // 3      # => -2"
      ],
      "metadata": {
        "colab": {
          "base_uri": "https://localhost:8080/"
        },
        "id": "FAjrs7zEbzbU",
        "outputId": "51a4cbd7-e201-4420-d20b-478a54525c5a"
      },
      "execution_count": null,
      "outputs": [
        {
          "output_type": "execute_result",
          "data": {
            "text/plain": [
              "-2"
            ]
          },
          "metadata": {},
          "execution_count": 8
        }
      ]
    },
    {
      "cell_type": "code",
      "source": [
        "5.0 // 3.0   # => 1.0 # works on floats too"
      ],
      "metadata": {
        "colab": {
          "base_uri": "https://localhost:8080/"
        },
        "id": "LtvMu5mUb1Vf",
        "outputId": "e0465954-36e4-464f-cb7b-a81bae1cb43c"
      },
      "execution_count": null,
      "outputs": [
        {
          "output_type": "execute_result",
          "data": {
            "text/plain": [
              "1.0"
            ]
          },
          "metadata": {},
          "execution_count": 9
        }
      ]
    },
    {
      "cell_type": "code",
      "source": [
        "-5.0 // 3.0  # => -2.0"
      ],
      "metadata": {
        "colab": {
          "base_uri": "https://localhost:8080/"
        },
        "id": "8gduxC3sb3EJ",
        "outputId": "d3a2dd41-3c1a-4f7f-cf1d-775debd258a9"
      },
      "execution_count": null,
      "outputs": [
        {
          "output_type": "execute_result",
          "data": {
            "text/plain": [
              "-2.0"
            ]
          },
          "metadata": {},
          "execution_count": 10
        }
      ]
    },
    {
      "cell_type": "code",
      "source": [
        "# The result of division is always a float\n",
        "10.0 / 3  # => 3.3333333333333335"
      ],
      "metadata": {
        "colab": {
          "base_uri": "https://localhost:8080/"
        },
        "id": "NsvdXja5b3J1",
        "outputId": "16df0c94-b524-4345-f566-e356efb49d06"
      },
      "execution_count": null,
      "outputs": [
        {
          "output_type": "execute_result",
          "data": {
            "text/plain": [
              "3.3333333333333335"
            ]
          },
          "metadata": {},
          "execution_count": 11
        }
      ]
    },
    {
      "cell_type": "code",
      "source": [
        "# Modulo operation\n",
        "7 % 3   # => 1"
      ],
      "metadata": {
        "colab": {
          "base_uri": "https://localhost:8080/"
        },
        "id": "ZI-KoQXtb623",
        "outputId": "8f66a94e-3eae-4bb9-b637-f39511c709f3"
      },
      "execution_count": null,
      "outputs": [
        {
          "output_type": "execute_result",
          "data": {
            "text/plain": [
              "1"
            ]
          },
          "metadata": {},
          "execution_count": 12
        }
      ]
    },
    {
      "cell_type": "code",
      "source": [
        "\n",
        "# i % j have the same sign as j, unlike C\n",
        "-7 % 3  # => 2"
      ],
      "metadata": {
        "colab": {
          "base_uri": "https://localhost:8080/"
        },
        "id": "XlEisvbEb8ct",
        "outputId": "2a8152f2-fde1-49bf-b302-247e2a3b739b"
      },
      "execution_count": null,
      "outputs": [
        {
          "output_type": "execute_result",
          "data": {
            "text/plain": [
              "2"
            ]
          },
          "metadata": {},
          "execution_count": 13
        }
      ]
    },
    {
      "cell_type": "code",
      "source": [
        "# Exponentiation (x**y, x to the yth power)\n",
        "2**3  # => 8"
      ],
      "metadata": {
        "colab": {
          "base_uri": "https://localhost:8080/"
        },
        "id": "dsrNf9dLcAh0",
        "outputId": "cce6d178-18bd-49f0-85c1-947d552d76de"
      },
      "execution_count": null,
      "outputs": [
        {
          "output_type": "execute_result",
          "data": {
            "text/plain": [
              "8"
            ]
          },
          "metadata": {},
          "execution_count": 14
        }
      ]
    },
    {
      "cell_type": "code",
      "source": [
        "# Enforce precedence with parentheses\n",
        "1 + 3 * 2    # => 7"
      ],
      "metadata": {
        "colab": {
          "base_uri": "https://localhost:8080/"
        },
        "id": "I8y8S3YacD6Z",
        "outputId": "454a043b-91b8-4b89-f87b-dee4f5f3f745"
      },
      "execution_count": null,
      "outputs": [
        {
          "output_type": "execute_result",
          "data": {
            "text/plain": [
              "7"
            ]
          },
          "metadata": {},
          "execution_count": 15
        }
      ]
    },
    {
      "cell_type": "code",
      "source": [
        "(1 + 3) * 2  # => 8"
      ],
      "metadata": {
        "colab": {
          "base_uri": "https://localhost:8080/"
        },
        "id": "p0sUFpV7cFT1",
        "outputId": "1e87c52d-8d68-4b40-f268-e88870d39a8d"
      },
      "execution_count": null,
      "outputs": [
        {
          "output_type": "execute_result",
          "data": {
            "text/plain": [
              "8"
            ]
          },
          "metadata": {},
          "execution_count": 16
        }
      ]
    },
    {
      "cell_type": "code",
      "source": [
        "# Boolean values are primitives (Note: the capitalization)\n",
        "True   # => True"
      ],
      "metadata": {
        "colab": {
          "base_uri": "https://localhost:8080/"
        },
        "id": "V4ZesXdzcIyc",
        "outputId": "752d3346-b9e0-41dd-a405-2728638d6229"
      },
      "execution_count": null,
      "outputs": [
        {
          "output_type": "execute_result",
          "data": {
            "text/plain": [
              "True"
            ]
          },
          "metadata": {},
          "execution_count": 17
        }
      ]
    },
    {
      "cell_type": "code",
      "source": [
        "False  # => False"
      ],
      "metadata": {
        "colab": {
          "base_uri": "https://localhost:8080/"
        },
        "id": "-uAwv8ihcKOk",
        "outputId": "ff8930ae-3bfb-48a8-8923-dd820df3f1d3"
      },
      "execution_count": null,
      "outputs": [
        {
          "output_type": "execute_result",
          "data": {
            "text/plain": [
              "False"
            ]
          },
          "metadata": {},
          "execution_count": 18
        }
      ]
    },
    {
      "cell_type": "code",
      "source": [
        "# negate with not\n",
        "not True   # => False"
      ],
      "metadata": {
        "colab": {
          "base_uri": "https://localhost:8080/"
        },
        "id": "3kzoOQDscLyR",
        "outputId": "059e9647-7248-4c1c-e8df-44725c62a3a0"
      },
      "execution_count": null,
      "outputs": [
        {
          "output_type": "execute_result",
          "data": {
            "text/plain": [
              "False"
            ]
          },
          "metadata": {},
          "execution_count": 19
        }
      ]
    },
    {
      "cell_type": "code",
      "source": [
        "not False  # => True"
      ],
      "metadata": {
        "colab": {
          "base_uri": "https://localhost:8080/"
        },
        "id": "_oc9MQxJcPdd",
        "outputId": "1f11ba74-1156-494b-edb1-a3404fbdf59e"
      },
      "execution_count": null,
      "outputs": [
        {
          "output_type": "execute_result",
          "data": {
            "text/plain": [
              "True"
            ]
          },
          "metadata": {},
          "execution_count": 20
        }
      ]
    },
    {
      "cell_type": "code",
      "source": [
        "# Boolean Operators\n",
        "# Note \"and\" and \"or\" are case-sensitive\n",
        "True and False  # => False"
      ],
      "metadata": {
        "colab": {
          "base_uri": "https://localhost:8080/"
        },
        "id": "0T4eB8EYcRiv",
        "outputId": "e0a6793e-7d04-49ad-f958-30293324ae82"
      },
      "execution_count": null,
      "outputs": [
        {
          "output_type": "execute_result",
          "data": {
            "text/plain": [
              "False"
            ]
          },
          "metadata": {},
          "execution_count": 21
        }
      ]
    },
    {
      "cell_type": "code",
      "source": [
        "False or True   # => True"
      ],
      "metadata": {
        "colab": {
          "base_uri": "https://localhost:8080/"
        },
        "id": "sfOMvbAEcWKA",
        "outputId": "906d767f-669d-4e68-89ed-967055868cf9"
      },
      "execution_count": null,
      "outputs": [
        {
          "output_type": "execute_result",
          "data": {
            "text/plain": [
              "True"
            ]
          },
          "metadata": {},
          "execution_count": 22
        }
      ]
    },
    {
      "cell_type": "code",
      "source": [
        "# True and False are actually 1 and 0 but with different keywords\n",
        "True + True # => 2"
      ],
      "metadata": {
        "colab": {
          "base_uri": "https://localhost:8080/"
        },
        "id": "1xOUA4MpcYBV",
        "outputId": "da99b7af-0481-4e6a-e5b3-b3e3096b37ef"
      },
      "execution_count": null,
      "outputs": [
        {
          "output_type": "execute_result",
          "data": {
            "text/plain": [
              "2"
            ]
          },
          "metadata": {},
          "execution_count": 23
        }
      ]
    },
    {
      "cell_type": "code",
      "source": [
        "True * 8    # => 8"
      ],
      "metadata": {
        "colab": {
          "base_uri": "https://localhost:8080/"
        },
        "id": "urebgI17cZ0d",
        "outputId": "d25b3972-659d-4d55-fab8-0fa74a282334"
      },
      "execution_count": null,
      "outputs": [
        {
          "output_type": "execute_result",
          "data": {
            "text/plain": [
              "8"
            ]
          },
          "metadata": {},
          "execution_count": 24
        }
      ]
    },
    {
      "cell_type": "code",
      "source": [
        "False - 5   # => -5"
      ],
      "metadata": {
        "colab": {
          "base_uri": "https://localhost:8080/"
        },
        "id": "WfnNPqI3cboF",
        "outputId": "807b8c7b-d782-4a98-d7fa-9f4dbd910b45"
      },
      "execution_count": null,
      "outputs": [
        {
          "output_type": "execute_result",
          "data": {
            "text/plain": [
              "-5"
            ]
          },
          "metadata": {},
          "execution_count": 25
        }
      ]
    },
    {
      "cell_type": "code",
      "source": [
        "# Comparison operators look at the numerical value of True and False\n",
        "0 == False  # => True"
      ],
      "metadata": {
        "colab": {
          "base_uri": "https://localhost:8080/"
        },
        "id": "Tfc-PasGcguQ",
        "outputId": "398bec9a-c84e-4975-ca0a-ea5b40885858"
      },
      "execution_count": null,
      "outputs": [
        {
          "output_type": "execute_result",
          "data": {
            "text/plain": [
              "True"
            ]
          },
          "metadata": {},
          "execution_count": 26
        }
      ]
    },
    {
      "cell_type": "code",
      "source": [
        "2 > True    # => True"
      ],
      "metadata": {
        "colab": {
          "base_uri": "https://localhost:8080/"
        },
        "id": "igISzW6ucil_",
        "outputId": "2c8d0443-b146-40c3-d0d0-5db8a8b7ce5b"
      },
      "execution_count": null,
      "outputs": [
        {
          "output_type": "execute_result",
          "data": {
            "text/plain": [
              "True"
            ]
          },
          "metadata": {},
          "execution_count": 27
        }
      ]
    },
    {
      "cell_type": "code",
      "source": [
        "2 == True   # => False"
      ],
      "metadata": {
        "colab": {
          "base_uri": "https://localhost:8080/"
        },
        "id": "-OP01kvUclHi",
        "outputId": "f834d14c-6ae0-443b-ca5f-ba8468426dd6"
      },
      "execution_count": null,
      "outputs": [
        {
          "output_type": "execute_result",
          "data": {
            "text/plain": [
              "False"
            ]
          },
          "metadata": {},
          "execution_count": 28
        }
      ]
    },
    {
      "cell_type": "code",
      "source": [
        "-5 != False # => True\n"
      ],
      "metadata": {
        "colab": {
          "base_uri": "https://localhost:8080/"
        },
        "id": "tsJYSBY2cmJY",
        "outputId": "0dc6d862-a63b-4e6b-85d6-c25408e2393b"
      },
      "execution_count": null,
      "outputs": [
        {
          "output_type": "execute_result",
          "data": {
            "text/plain": [
              "True"
            ]
          },
          "metadata": {},
          "execution_count": 29
        }
      ]
    },
    {
      "cell_type": "code",
      "source": [
        "# None, 0, and empty strings/lists/dicts/tuples/sets all evaluate to False.\n",
        "# All other values are True\n",
        "bool(0)     # => False"
      ],
      "metadata": {
        "colab": {
          "base_uri": "https://localhost:8080/"
        },
        "id": "Ofs9g3KPcnv4",
        "outputId": "9c9dd182-a095-4b00-f628-1c990ee65ee6"
      },
      "execution_count": null,
      "outputs": [
        {
          "output_type": "execute_result",
          "data": {
            "text/plain": [
              "False"
            ]
          },
          "metadata": {},
          "execution_count": 30
        }
      ]
    },
    {
      "cell_type": "code",
      "source": [
        "bool(\"\")    # => False"
      ],
      "metadata": {
        "colab": {
          "base_uri": "https://localhost:8080/"
        },
        "id": "XqQzMYCecqlx",
        "outputId": "0f0f4bf2-876c-4350-c8e6-fd169b7d46bf"
      },
      "execution_count": null,
      "outputs": [
        {
          "output_type": "execute_result",
          "data": {
            "text/plain": [
              "False"
            ]
          },
          "metadata": {},
          "execution_count": 31
        }
      ]
    },
    {
      "cell_type": "code",
      "source": [
        "bool([])    # => False"
      ],
      "metadata": {
        "colab": {
          "base_uri": "https://localhost:8080/"
        },
        "id": "i53FiQUScsUx",
        "outputId": "be0018fb-3b88-4465-b05e-8b62fe9cc7c3"
      },
      "execution_count": null,
      "outputs": [
        {
          "output_type": "execute_result",
          "data": {
            "text/plain": [
              "False"
            ]
          },
          "metadata": {},
          "execution_count": 32
        }
      ]
    },
    {
      "cell_type": "code",
      "source": [
        "bool({})    # => False"
      ],
      "metadata": {
        "colab": {
          "base_uri": "https://localhost:8080/"
        },
        "id": "rHj-KTCWcvfr",
        "outputId": "56f0a774-edbd-4b73-80bf-b08a0868cd14"
      },
      "execution_count": null,
      "outputs": [
        {
          "output_type": "execute_result",
          "data": {
            "text/plain": [
              "False"
            ]
          },
          "metadata": {},
          "execution_count": 33
        }
      ]
    },
    {
      "cell_type": "code",
      "source": [
        "bool(())    # => False"
      ],
      "metadata": {
        "colab": {
          "base_uri": "https://localhost:8080/"
        },
        "id": "w6EBNNq4cyMI",
        "outputId": "9f525504-0821-4c08-8e1f-cca63ffbf07e"
      },
      "execution_count": null,
      "outputs": [
        {
          "output_type": "execute_result",
          "data": {
            "text/plain": [
              "False"
            ]
          },
          "metadata": {},
          "execution_count": 34
        }
      ]
    },
    {
      "cell_type": "code",
      "source": [
        "bool(set()) # => False"
      ],
      "metadata": {
        "colab": {
          "base_uri": "https://localhost:8080/"
        },
        "id": "X6M1DOrAczWS",
        "outputId": "3fe5a9de-1151-400e-abdc-c0d5edee1e21"
      },
      "execution_count": null,
      "outputs": [
        {
          "output_type": "execute_result",
          "data": {
            "text/plain": [
              "False"
            ]
          },
          "metadata": {},
          "execution_count": 35
        }
      ]
    },
    {
      "cell_type": "code",
      "source": [
        "bool(4)     # => True"
      ],
      "metadata": {
        "colab": {
          "base_uri": "https://localhost:8080/"
        },
        "id": "PVIEBeL6c0_C",
        "outputId": "16dfd6be-0e3f-47ba-f4ea-de885ead469a"
      },
      "execution_count": null,
      "outputs": [
        {
          "output_type": "execute_result",
          "data": {
            "text/plain": [
              "True"
            ]
          },
          "metadata": {},
          "execution_count": 36
        }
      ]
    },
    {
      "cell_type": "code",
      "source": [
        "bool(-6)    # => True"
      ],
      "metadata": {
        "colab": {
          "base_uri": "https://localhost:8080/"
        },
        "id": "6UojttSFc2xJ",
        "outputId": "3f5b0d87-8047-4558-957b-d5195f2907ab"
      },
      "execution_count": null,
      "outputs": [
        {
          "output_type": "execute_result",
          "data": {
            "text/plain": [
              "True"
            ]
          },
          "metadata": {},
          "execution_count": 37
        }
      ]
    },
    {
      "cell_type": "code",
      "source": [
        "# Using boolean logical operators on ints casts them to booleans for evaluation,\n",
        "# but their non-cast value is returned. Don't mix up with bool(ints) and bitwise\n",
        "# and/or (&,|)\n",
        "bool(0)     # => False"
      ],
      "metadata": {
        "colab": {
          "base_uri": "https://localhost:8080/"
        },
        "id": "Ol2GwMOnc943",
        "outputId": "26a0b92e-ab9b-4d20-d4f0-6d0a783c4df6"
      },
      "execution_count": null,
      "outputs": [
        {
          "output_type": "execute_result",
          "data": {
            "text/plain": [
              "False"
            ]
          },
          "metadata": {},
          "execution_count": 38
        }
      ]
    },
    {
      "cell_type": "code",
      "source": [
        "bool(2)     # => True"
      ],
      "metadata": {
        "colab": {
          "base_uri": "https://localhost:8080/"
        },
        "id": "g6qPSriJdAvo",
        "outputId": "0e66c808-db7c-4cdb-fcb1-6b3d915e189f"
      },
      "execution_count": null,
      "outputs": [
        {
          "output_type": "execute_result",
          "data": {
            "text/plain": [
              "True"
            ]
          },
          "metadata": {},
          "execution_count": 39
        }
      ]
    },
    {
      "cell_type": "code",
      "source": [
        "0 and 2     # => 0"
      ],
      "metadata": {
        "colab": {
          "base_uri": "https://localhost:8080/"
        },
        "id": "1twtyZmndE-b",
        "outputId": "ba67800e-6cc7-4193-befc-5e345e5dd289"
      },
      "execution_count": null,
      "outputs": [
        {
          "output_type": "execute_result",
          "data": {
            "text/plain": [
              "0"
            ]
          },
          "metadata": {},
          "execution_count": 40
        }
      ]
    },
    {
      "cell_type": "code",
      "source": [
        "bool(-5)    # => True"
      ],
      "metadata": {
        "colab": {
          "base_uri": "https://localhost:8080/"
        },
        "id": "42A_mZcvdGjA",
        "outputId": "3ddcfcdd-8650-4fa0-9190-cadcd28f8d39"
      },
      "execution_count": null,
      "outputs": [
        {
          "output_type": "execute_result",
          "data": {
            "text/plain": [
              "True"
            ]
          },
          "metadata": {},
          "execution_count": 41
        }
      ]
    },
    {
      "cell_type": "code",
      "source": [
        "bool(2)     # => True"
      ],
      "metadata": {
        "colab": {
          "base_uri": "https://localhost:8080/"
        },
        "id": "TupXUFB8dIER",
        "outputId": "9c9c391f-5207-4b06-bedb-4d24b8be82b6"
      },
      "execution_count": null,
      "outputs": [
        {
          "output_type": "execute_result",
          "data": {
            "text/plain": [
              "True"
            ]
          },
          "metadata": {},
          "execution_count": 42
        }
      ]
    },
    {
      "cell_type": "code",
      "source": [
        "-5 or 0     # => -5"
      ],
      "metadata": {
        "colab": {
          "base_uri": "https://localhost:8080/"
        },
        "id": "G6zP3G-kdKWw",
        "outputId": "9c809855-31da-44f1-cc90-63a958dab172"
      },
      "execution_count": null,
      "outputs": [
        {
          "output_type": "execute_result",
          "data": {
            "text/plain": [
              "-5"
            ]
          },
          "metadata": {},
          "execution_count": 43
        }
      ]
    },
    {
      "cell_type": "code",
      "source": [
        "# Equality is ==\n",
        "1 == 1  # => True"
      ],
      "metadata": {
        "colab": {
          "base_uri": "https://localhost:8080/"
        },
        "id": "vguheGWHdL47",
        "outputId": "e6dec561-fbdd-4de7-9a72-9c46b3e28d02"
      },
      "execution_count": null,
      "outputs": [
        {
          "output_type": "execute_result",
          "data": {
            "text/plain": [
              "True"
            ]
          },
          "metadata": {},
          "execution_count": 44
        }
      ]
    },
    {
      "cell_type": "code",
      "source": [
        "2 == 1  # => False"
      ],
      "metadata": {
        "colab": {
          "base_uri": "https://localhost:8080/"
        },
        "id": "PwpfKLAZdNYn",
        "outputId": "a0aaed32-9b26-4361-8683-27e9ea00809a"
      },
      "execution_count": null,
      "outputs": [
        {
          "output_type": "execute_result",
          "data": {
            "text/plain": [
              "False"
            ]
          },
          "metadata": {},
          "execution_count": 45
        }
      ]
    },
    {
      "cell_type": "code",
      "source": [
        "# Inequality is !=\n",
        "1 != 1  # => False"
      ],
      "metadata": {
        "colab": {
          "base_uri": "https://localhost:8080/"
        },
        "id": "g9F2pbKYdPMD",
        "outputId": "9e612421-cf49-4b6b-a85a-cbd7ef61cbf7"
      },
      "execution_count": null,
      "outputs": [
        {
          "output_type": "execute_result",
          "data": {
            "text/plain": [
              "False"
            ]
          },
          "metadata": {},
          "execution_count": 46
        }
      ]
    },
    {
      "cell_type": "code",
      "source": [
        "2 != 1  # => True"
      ],
      "metadata": {
        "colab": {
          "base_uri": "https://localhost:8080/"
        },
        "id": "1wSjEu1MdSCb",
        "outputId": "d7807493-68e1-46e9-91a6-6476cc560692"
      },
      "execution_count": null,
      "outputs": [
        {
          "output_type": "execute_result",
          "data": {
            "text/plain": [
              "True"
            ]
          },
          "metadata": {},
          "execution_count": 47
        }
      ]
    },
    {
      "cell_type": "code",
      "source": [
        "# More comparisons\n",
        "1 < 10  # => True"
      ],
      "metadata": {
        "colab": {
          "base_uri": "https://localhost:8080/"
        },
        "id": "RqUJaVsBdT17",
        "outputId": "8adb4900-c10a-4454-e3b6-8f2b8e7e9081"
      },
      "execution_count": null,
      "outputs": [
        {
          "output_type": "execute_result",
          "data": {
            "text/plain": [
              "True"
            ]
          },
          "metadata": {},
          "execution_count": 48
        }
      ]
    },
    {
      "cell_type": "code",
      "source": [
        "2 <= 2  # => True"
      ],
      "metadata": {
        "colab": {
          "base_uri": "https://localhost:8080/"
        },
        "id": "uZ12hFiIdVF8",
        "outputId": "203b457a-ca00-46ad-9d86-ad8dc0996706"
      },
      "execution_count": null,
      "outputs": [
        {
          "output_type": "execute_result",
          "data": {
            "text/plain": [
              "True"
            ]
          },
          "metadata": {},
          "execution_count": 49
        }
      ]
    },
    {
      "cell_type": "code",
      "source": [
        "2 >= 2  # => True"
      ],
      "metadata": {
        "colab": {
          "base_uri": "https://localhost:8080/"
        },
        "id": "ydwXQogJdbkr",
        "outputId": "57f1d9af-9249-4bb9-cfaf-4289fa9dcc73"
      },
      "execution_count": null,
      "outputs": [
        {
          "output_type": "execute_result",
          "data": {
            "text/plain": [
              "True"
            ]
          },
          "metadata": {},
          "execution_count": 50
        }
      ]
    },
    {
      "cell_type": "code",
      "source": [
        "# Seeing whether a value is in a range\n",
        "1 < 2 and 2 < 3  # => True"
      ],
      "metadata": {
        "colab": {
          "base_uri": "https://localhost:8080/"
        },
        "id": "hGFNvcvGdlNo",
        "outputId": "56bc8777-e81e-4483-f911-eac11b66dbc7"
      },
      "execution_count": null,
      "outputs": [
        {
          "output_type": "execute_result",
          "data": {
            "text/plain": [
              "True"
            ]
          },
          "metadata": {},
          "execution_count": 51
        }
      ]
    },
    {
      "cell_type": "code",
      "source": [
        "2 < 3 and 3 < 2  # => False"
      ],
      "metadata": {
        "colab": {
          "base_uri": "https://localhost:8080/"
        },
        "id": "wOPh-xIWdnuL",
        "outputId": "9099d589-6360-40a2-abaa-002bb9497d82"
      },
      "execution_count": null,
      "outputs": [
        {
          "output_type": "execute_result",
          "data": {
            "text/plain": [
              "False"
            ]
          },
          "metadata": {},
          "execution_count": 52
        }
      ]
    },
    {
      "cell_type": "code",
      "source": [
        "# Chaining makes this look nicer\n",
        "1 < 2 < 3  # => True"
      ],
      "metadata": {
        "colab": {
          "base_uri": "https://localhost:8080/"
        },
        "id": "uCxujcwFdqmq",
        "outputId": "8598a408-c255-46fd-ee6b-d011e3b2845f"
      },
      "execution_count": null,
      "outputs": [
        {
          "output_type": "execute_result",
          "data": {
            "text/plain": [
              "True"
            ]
          },
          "metadata": {},
          "execution_count": 53
        }
      ]
    },
    {
      "cell_type": "code",
      "source": [
        "2 < 3 < 2  # => False"
      ],
      "metadata": {
        "colab": {
          "base_uri": "https://localhost:8080/"
        },
        "id": "9ItGnXVNdrxy",
        "outputId": "6a24f419-b864-48d5-e0b2-b401d57929b8"
      },
      "execution_count": null,
      "outputs": [
        {
          "output_type": "execute_result",
          "data": {
            "text/plain": [
              "False"
            ]
          },
          "metadata": {},
          "execution_count": 54
        }
      ]
    },
    {
      "cell_type": "code",
      "source": [
        "# (is vs. ==) is checks if two variables refer to the same object, but == checks\n",
        "# if the objects pointed to have the same values.\n",
        "a = [1, 2, 3, 4]  # Point a at a new list, [1, 2, 3, 4]"
      ],
      "metadata": {
        "id": "l4OXiY71dt2U"
      },
      "execution_count": null,
      "outputs": []
    },
    {
      "cell_type": "code",
      "source": [
        "b = a             # Point b at what a is pointing to"
      ],
      "metadata": {
        "id": "9cRqvUh7dwBz"
      },
      "execution_count": null,
      "outputs": []
    },
    {
      "cell_type": "code",
      "source": [
        "b is a            # => True, a and b refer to the same object"
      ],
      "metadata": {
        "colab": {
          "base_uri": "https://localhost:8080/"
        },
        "id": "bhentEZbd0mD",
        "outputId": "f1577dd9-8881-4cb8-a223-106a45dc3861"
      },
      "execution_count": null,
      "outputs": [
        {
          "output_type": "execute_result",
          "data": {
            "text/plain": [
              "True"
            ]
          },
          "metadata": {},
          "execution_count": 57
        }
      ]
    },
    {
      "cell_type": "code",
      "source": [
        "b == a            # => True, a's and b's objects are equal"
      ],
      "metadata": {
        "colab": {
          "base_uri": "https://localhost:8080/"
        },
        "id": "Y_BBXthKd0sp",
        "outputId": "fa3b639a-c357-414c-9285-095403e26f0d"
      },
      "execution_count": null,
      "outputs": [
        {
          "output_type": "execute_result",
          "data": {
            "text/plain": [
              "True"
            ]
          },
          "metadata": {},
          "execution_count": 58
        }
      ]
    },
    {
      "cell_type": "code",
      "source": [
        "b = [1, 2, 3, 4]  # Point b at a new list, [1, 2, 3, 4]"
      ],
      "metadata": {
        "id": "tC3bu1gGd0v9"
      },
      "execution_count": null,
      "outputs": []
    },
    {
      "cell_type": "code",
      "source": [
        "b is a            # => False, a and b do not refer to the same object"
      ],
      "metadata": {
        "colab": {
          "base_uri": "https://localhost:8080/"
        },
        "id": "3td8ymded0yt",
        "outputId": "79f74929-9a93-4305-bc93-a5b0172b17e0"
      },
      "execution_count": null,
      "outputs": [
        {
          "output_type": "execute_result",
          "data": {
            "text/plain": [
              "False"
            ]
          },
          "metadata": {},
          "execution_count": 60
        }
      ]
    },
    {
      "cell_type": "code",
      "source": [
        "b == a            # => True, a's and b's objects are equal"
      ],
      "metadata": {
        "colab": {
          "base_uri": "https://localhost:8080/"
        },
        "id": "d2hEjUxHd01d",
        "outputId": "dc893976-141f-49d9-9f8a-4db779aa6a1d"
      },
      "execution_count": null,
      "outputs": [
        {
          "output_type": "execute_result",
          "data": {
            "text/plain": [
              "True"
            ]
          },
          "metadata": {},
          "execution_count": 61
        }
      ]
    },
    {
      "cell_type": "code",
      "source": [
        "# Strings are created with \" or '\n",
        "\"This is a string.\""
      ],
      "metadata": {
        "colab": {
          "base_uri": "https://localhost:8080/",
          "height": 36
        },
        "id": "Xx6XL9EFd04E",
        "outputId": "11315129-16dd-40c4-f8bc-1615c366e28c"
      },
      "execution_count": null,
      "outputs": [
        {
          "output_type": "execute_result",
          "data": {
            "text/plain": [
              "'This is a string.'"
            ],
            "application/vnd.google.colaboratory.intrinsic+json": {
              "type": "string"
            }
          },
          "metadata": {},
          "execution_count": 62
        }
      ]
    },
    {
      "cell_type": "code",
      "source": [
        "'This is also a string.'"
      ],
      "metadata": {
        "colab": {
          "base_uri": "https://localhost:8080/",
          "height": 36
        },
        "id": "Hj6ZqVGqeD37",
        "outputId": "1fa97e8e-e29c-482a-b087-dfca3718ba2a"
      },
      "execution_count": null,
      "outputs": [
        {
          "output_type": "execute_result",
          "data": {
            "text/plain": [
              "'This is also a string.'"
            ],
            "application/vnd.google.colaboratory.intrinsic+json": {
              "type": "string"
            }
          },
          "metadata": {},
          "execution_count": 63
        }
      ]
    },
    {
      "cell_type": "code",
      "source": [
        "# Strings can be added too\n",
        "\"Hello \" + \"world!\"  # => \"Hello world!\""
      ],
      "metadata": {
        "colab": {
          "base_uri": "https://localhost:8080/",
          "height": 36
        },
        "id": "YRPGJhgieD9v",
        "outputId": "96df438d-9142-4349-f914-8a8537b7a081"
      },
      "execution_count": null,
      "outputs": [
        {
          "output_type": "execute_result",
          "data": {
            "text/plain": [
              "'Hello world!'"
            ],
            "application/vnd.google.colaboratory.intrinsic+json": {
              "type": "string"
            }
          },
          "metadata": {},
          "execution_count": 64
        }
      ]
    },
    {
      "cell_type": "code",
      "source": [
        "# String literals (but not variables) can be concatenated without using '+'\n",
        "\"Hello \" \"world!\"    # => \"Hello world!\""
      ],
      "metadata": {
        "colab": {
          "base_uri": "https://localhost:8080/",
          "height": 36
        },
        "id": "2UFP29wqeEEd",
        "outputId": "6e0e5d01-9200-41c1-b17a-930b78d8f6e8"
      },
      "execution_count": null,
      "outputs": [
        {
          "output_type": "execute_result",
          "data": {
            "text/plain": [
              "'Hello world!'"
            ],
            "application/vnd.google.colaboratory.intrinsic+json": {
              "type": "string"
            }
          },
          "metadata": {},
          "execution_count": 65
        }
      ]
    },
    {
      "cell_type": "code",
      "source": [
        "# A string can be treated like a list of characters\n",
        "\"Hello world!\"[0]  # => 'H'"
      ],
      "metadata": {
        "colab": {
          "base_uri": "https://localhost:8080/",
          "height": 36
        },
        "id": "3wuadepKeIyb",
        "outputId": "2158f3cb-5b81-495e-c8af-ece80d71921f"
      },
      "execution_count": null,
      "outputs": [
        {
          "output_type": "execute_result",
          "data": {
            "text/plain": [
              "'H'"
            ],
            "application/vnd.google.colaboratory.intrinsic+json": {
              "type": "string"
            }
          },
          "metadata": {},
          "execution_count": 66
        }
      ]
    },
    {
      "cell_type": "code",
      "source": [
        "# You can find the length of a string\n",
        "len(\"This is a string\")  # => 16"
      ],
      "metadata": {
        "colab": {
          "base_uri": "https://localhost:8080/"
        },
        "id": "Isex6D-geOpC",
        "outputId": "3aeefaf8-d803-49e9-ae78-5cef11520fdd"
      },
      "execution_count": null,
      "outputs": [
        {
          "output_type": "execute_result",
          "data": {
            "text/plain": [
              "16"
            ]
          },
          "metadata": {},
          "execution_count": 67
        }
      ]
    },
    {
      "cell_type": "code",
      "source": [
        "# Since Python 3.6, you can use f-strings or formatted string literals.\n",
        "name = \"Reiko\"\n",
        "f\"She said her name is {name}.\" # => \"She said her name is Reiko\""
      ],
      "metadata": {
        "colab": {
          "base_uri": "https://localhost:8080/",
          "height": 36
        },
        "id": "obQMRzyPeOwU",
        "outputId": "4d0cec6b-7647-4e1d-c224-fa76fc2baad6"
      },
      "execution_count": null,
      "outputs": [
        {
          "output_type": "execute_result",
          "data": {
            "text/plain": [
              "'She said her name is Reiko.'"
            ],
            "application/vnd.google.colaboratory.intrinsic+json": {
              "type": "string"
            }
          },
          "metadata": {},
          "execution_count": 68
        }
      ]
    },
    {
      "cell_type": "code",
      "source": [
        "# Any valid Python expression inside these braces is returned to the string.\n",
        "f\"{name} is {len(name)} characters long.\" # => \"Reiko is 5 characters long.\""
      ],
      "metadata": {
        "colab": {
          "base_uri": "https://localhost:8080/",
          "height": 36
        },
        "id": "LTbFBcDUeSgZ",
        "outputId": "17c9fcf6-3be6-4dbc-a55f-be3fde50e971"
      },
      "execution_count": null,
      "outputs": [
        {
          "output_type": "execute_result",
          "data": {
            "text/plain": [
              "'Reiko is 5 characters long.'"
            ],
            "application/vnd.google.colaboratory.intrinsic+json": {
              "type": "string"
            }
          },
          "metadata": {},
          "execution_count": 69
        }
      ]
    },
    {
      "cell_type": "code",
      "source": [
        "# None is an object\n",
        "None  # => None"
      ],
      "metadata": {
        "id": "C4xIW32ReWL3"
      },
      "execution_count": null,
      "outputs": []
    },
    {
      "cell_type": "code",
      "source": [
        "# Don't use the equality \"==\" symbol to compare objects to None\n",
        "# Use \"is\" instead. This checks for equality of object identity.\n",
        "\"etc\" is None  # => False"
      ],
      "metadata": {
        "colab": {
          "base_uri": "https://localhost:8080/"
        },
        "id": "aNM4euxBeWbV",
        "outputId": "39837f52-9ebc-4016-b3d7-e1c157a2c550"
      },
      "execution_count": null,
      "outputs": [
        {
          "output_type": "stream",
          "name": "stderr",
          "text": [
            "<>:3: SyntaxWarning: \"is\" with a literal. Did you mean \"==\"?\n",
            "<>:3: SyntaxWarning: \"is\" with a literal. Did you mean \"==\"?\n",
            "<ipython-input-71-4f2822aafad5>:3: SyntaxWarning: \"is\" with a literal. Did you mean \"==\"?\n",
            "  \"etc\" is None  # => False\n"
          ]
        },
        {
          "output_type": "execute_result",
          "data": {
            "text/plain": [
              "False"
            ]
          },
          "metadata": {},
          "execution_count": 71
        }
      ]
    },
    {
      "cell_type": "code",
      "source": [
        "None is None   # => True"
      ],
      "metadata": {
        "colab": {
          "base_uri": "https://localhost:8080/"
        },
        "id": "PsVqD7cwef85",
        "outputId": "15b0e0e3-9541-45cd-c49e-f4a760147839"
      },
      "execution_count": null,
      "outputs": [
        {
          "output_type": "execute_result",
          "data": {
            "text/plain": [
              "True"
            ]
          },
          "metadata": {},
          "execution_count": 72
        }
      ]
    },
    {
      "cell_type": "markdown",
      "source": [
        "####################################################\n",
        "## 2. Variables and Collections\n",
        "####################################################"
      ],
      "metadata": {
        "id": "i_TR0eqIeml9"
      }
    },
    {
      "cell_type": "code",
      "source": [
        "# Python has a print function\n",
        "print(\"I'm Python. Nice to meet you!\")  # => I'm Python. Nice to meet you!"
      ],
      "metadata": {
        "colab": {
          "base_uri": "https://localhost:8080/"
        },
        "id": "XRp4DJURepOE",
        "outputId": "7acc0476-4df2-4db9-f3c8-409f043b64f8"
      },
      "execution_count": null,
      "outputs": [
        {
          "output_type": "stream",
          "name": "stdout",
          "text": [
            "I'm Python. Nice to meet you!\n"
          ]
        }
      ]
    },
    {
      "cell_type": "code",
      "source": [
        "# By default the print function also prints out a newline at the end.\n",
        "# Use the optional argument end to change the end string.\n",
        "print(\"Hello, World\", end=\"!\")  # => Hello, World!"
      ],
      "metadata": {
        "colab": {
          "base_uri": "https://localhost:8080/"
        },
        "id": "-QKMVn8AesLI",
        "outputId": "5fa1b46f-0a34-4dd9-eb5e-20db328c7cae"
      },
      "execution_count": null,
      "outputs": [
        {
          "output_type": "stream",
          "name": "stdout",
          "text": [
            "Hello, World!"
          ]
        }
      ]
    },
    {
      "cell_type": "code",
      "source": [
        "# Simple way to get input data from console\n",
        "input_string_var = input(\"Enter some data: \") # Returns the data as a string"
      ],
      "metadata": {
        "colab": {
          "base_uri": "https://localhost:8080/"
        },
        "id": "O6iBeycPet9F",
        "outputId": "05455299-1aa3-4b7a-e81d-f2497db286ae"
      },
      "execution_count": null,
      "outputs": [
        {
          "name": "stdout",
          "output_type": "stream",
          "text": [
            "Enter some data: Fozia Khan\n"
          ]
        }
      ]
    },
    {
      "cell_type": "code",
      "source": [
        "# There are no declarations, only assignments.\n",
        "# Convention is to use lower_case_with_underscores\n",
        "some_var = 5"
      ],
      "metadata": {
        "id": "tbfmnO-YezJ1"
      },
      "execution_count": null,
      "outputs": []
    },
    {
      "cell_type": "code",
      "source": [
        "some_var  # => 5"
      ],
      "metadata": {
        "colab": {
          "base_uri": "https://localhost:8080/"
        },
        "id": "Uy8g6n7ae1UC",
        "outputId": "e6aa866a-3492-4f05-9f53-87ee7db65065"
      },
      "execution_count": null,
      "outputs": [
        {
          "output_type": "execute_result",
          "data": {
            "text/plain": [
              "5"
            ]
          },
          "metadata": {},
          "execution_count": 77
        }
      ]
    },
    {
      "cell_type": "code",
      "source": [
        "# Accessing a previously unassigned variable is an exception.\n",
        "# See Control Flow to learn more about exception handling.\n",
        "some_unknown_var  # Raises a NameError"
      ],
      "metadata": {
        "colab": {
          "base_uri": "https://localhost:8080/",
          "height": 219
        },
        "id": "CX9xgk5he38b",
        "outputId": "3a0f97ab-bd83-4477-aeb4-7d29c32defbf"
      },
      "execution_count": null,
      "outputs": [
        {
          "output_type": "error",
          "ename": "NameError",
          "evalue": "ignored",
          "traceback": [
            "\u001b[0;31m---------------------------------------------------------------------------\u001b[0m",
            "\u001b[0;31mNameError\u001b[0m                                 Traceback (most recent call last)",
            "\u001b[0;32m<ipython-input-78-2133f8816daf>\u001b[0m in \u001b[0;36m<cell line: 3>\u001b[0;34m()\u001b[0m\n\u001b[1;32m      1\u001b[0m \u001b[0;31m# Accessing a previously unassigned variable is an exception.\u001b[0m\u001b[0;34m\u001b[0m\u001b[0;34m\u001b[0m\u001b[0m\n\u001b[1;32m      2\u001b[0m \u001b[0;31m# See Control Flow to learn more about exception handling.\u001b[0m\u001b[0;34m\u001b[0m\u001b[0;34m\u001b[0m\u001b[0m\n\u001b[0;32m----> 3\u001b[0;31m \u001b[0msome_unknown_var\u001b[0m  \u001b[0;31m# Raises a NameError\u001b[0m\u001b[0;34m\u001b[0m\u001b[0;34m\u001b[0m\u001b[0m\n\u001b[0m",
            "\u001b[0;31mNameError\u001b[0m: name 'some_unknown_var' is not defined"
          ]
        }
      ]
    },
    {
      "cell_type": "code",
      "source": [
        "# if can be used as an expression\n",
        "# Equivalent of C's '?:' ternary operator\n",
        "\"yay!\" if 0 > 1 else \"nay!\"  # => \"nay!\""
      ],
      "metadata": {
        "colab": {
          "base_uri": "https://localhost:8080/",
          "height": 36
        },
        "id": "fPMWkNYZe9E6",
        "outputId": "79ce3d56-894f-4a5e-c59e-0e40dec285c6"
      },
      "execution_count": null,
      "outputs": [
        {
          "output_type": "execute_result",
          "data": {
            "text/plain": [
              "'nay!'"
            ],
            "application/vnd.google.colaboratory.intrinsic+json": {
              "type": "string"
            }
          },
          "metadata": {},
          "execution_count": 79
        }
      ]
    },
    {
      "cell_type": "code",
      "source": [
        "# Lists store sequences\n",
        "li = []   #empty list"
      ],
      "metadata": {
        "id": "5mtKG1kbfAYm"
      },
      "execution_count": null,
      "outputs": []
    },
    {
      "cell_type": "code",
      "source": [
        "# You can start with a prefilled list\n",
        "other_li = [4, 5, 6]"
      ],
      "metadata": {
        "id": "AZToxc9nfCYV"
      },
      "execution_count": null,
      "outputs": []
    },
    {
      "cell_type": "code",
      "source": [
        "# Add stuff to the end of a list with append\n",
        "li.append(1)    # li is now [1]"
      ],
      "metadata": {
        "id": "XkOexKN0fD5p"
      },
      "execution_count": null,
      "outputs": []
    },
    {
      "cell_type": "code",
      "source": [
        "li.append(2)    # li is now [1, 2]"
      ],
      "metadata": {
        "id": "1FpBZRUjfF6S"
      },
      "execution_count": null,
      "outputs": []
    },
    {
      "cell_type": "code",
      "source": [
        "li.append(4)    # li is now [1, 2, 4]"
      ],
      "metadata": {
        "id": "9DHnzAjMfJY5"
      },
      "execution_count": null,
      "outputs": []
    },
    {
      "cell_type": "code",
      "source": [
        "li.append(3)    # li is now [1, 2, 4, 3]"
      ],
      "metadata": {
        "id": "dPbKy0c_fK21"
      },
      "execution_count": null,
      "outputs": []
    },
    {
      "cell_type": "code",
      "source": [
        "# Remove from the end with pop\n",
        "li.pop()        # => 3 and li is now [1, 2, 4]"
      ],
      "metadata": {
        "colab": {
          "base_uri": "https://localhost:8080/"
        },
        "id": "NWhoAz9pfMZr",
        "outputId": "e626877c-c5b2-436f-ee34-cfdbce31d91b"
      },
      "execution_count": null,
      "outputs": [
        {
          "output_type": "execute_result",
          "data": {
            "text/plain": [
              "3"
            ]
          },
          "metadata": {},
          "execution_count": 86
        }
      ]
    },
    {
      "cell_type": "code",
      "source": [
        "# Let's put it back\n",
        "li.append(3)    # li is now [1, 2, 4, 3] again."
      ],
      "metadata": {
        "id": "Zpve0UQ1fONq"
      },
      "execution_count": null,
      "outputs": []
    },
    {
      "cell_type": "code",
      "source": [
        "# Access a list like you would any array\n",
        "li[0]   # => 1"
      ],
      "metadata": {
        "colab": {
          "base_uri": "https://localhost:8080/"
        },
        "id": "XiIcVruHfSgy",
        "outputId": "18e9c38b-3e10-476c-fe84-e0caf16ed055"
      },
      "execution_count": null,
      "outputs": [
        {
          "output_type": "execute_result",
          "data": {
            "text/plain": [
              "1"
            ]
          },
          "metadata": {},
          "execution_count": 88
        }
      ]
    },
    {
      "cell_type": "code",
      "source": [
        "# Look at the last element\n",
        "li[-1]  # => 3"
      ],
      "metadata": {
        "colab": {
          "base_uri": "https://localhost:8080/"
        },
        "id": "KelLzGAtfUzR",
        "outputId": "483de676-2a3a-45fe-f554-c0acc77cdd29"
      },
      "execution_count": null,
      "outputs": [
        {
          "output_type": "execute_result",
          "data": {
            "text/plain": [
              "3"
            ]
          },
          "metadata": {},
          "execution_count": 89
        }
      ]
    },
    {
      "cell_type": "code",
      "source": [
        "# Looking out of bounds is an IndexError\n",
        "li[4]  # Raises an IndexError"
      ],
      "metadata": {
        "colab": {
          "base_uri": "https://localhost:8080/",
          "height": 200
        },
        "id": "wo0kId-4fVsS",
        "outputId": "e13d6ab8-cd41-4af5-b8b7-87097e55881f"
      },
      "execution_count": null,
      "outputs": [
        {
          "output_type": "error",
          "ename": "IndexError",
          "evalue": "ignored",
          "traceback": [
            "\u001b[0;31m---------------------------------------------------------------------------\u001b[0m",
            "\u001b[0;31mIndexError\u001b[0m                                Traceback (most recent call last)",
            "\u001b[0;32m<ipython-input-90-b9e9f8104a81>\u001b[0m in \u001b[0;36m<cell line: 2>\u001b[0;34m()\u001b[0m\n\u001b[1;32m      1\u001b[0m \u001b[0;31m# Looking out of bounds is an IndexError\u001b[0m\u001b[0;34m\u001b[0m\u001b[0;34m\u001b[0m\u001b[0m\n\u001b[0;32m----> 2\u001b[0;31m \u001b[0mli\u001b[0m\u001b[0;34m[\u001b[0m\u001b[0;36m4\u001b[0m\u001b[0;34m]\u001b[0m  \u001b[0;31m# Raises an IndexError\u001b[0m\u001b[0;34m\u001b[0m\u001b[0;34m\u001b[0m\u001b[0m\n\u001b[0m",
            "\u001b[0;31mIndexError\u001b[0m: list index out of range"
          ]
        }
      ]
    },
    {
      "cell_type": "code",
      "source": [
        "# You can look at ranges with slice syntax.\n",
        "# The start index is included, the end index is not\n",
        "# (It's a closed/open range for you mathy types.)\n",
        "li[1:3]   # Return list from index 1 to 3 => [2, 4]"
      ],
      "metadata": {
        "colab": {
          "base_uri": "https://localhost:8080/"
        },
        "id": "rHc9ENlIfXqk",
        "outputId": "b63320ad-763e-4a03-9438-e797c4498304"
      },
      "execution_count": null,
      "outputs": [
        {
          "output_type": "execute_result",
          "data": {
            "text/plain": [
              "[2, 4]"
            ]
          },
          "metadata": {},
          "execution_count": 91
        }
      ]
    },
    {
      "cell_type": "code",
      "source": [
        "li[2:]    # Return list starting from index 2 => [4, 3]"
      ],
      "metadata": {
        "colab": {
          "base_uri": "https://localhost:8080/"
        },
        "id": "a0phj1iFfZqD",
        "outputId": "725c3190-0711-4f93-b20c-65ae9b7796c1"
      },
      "execution_count": null,
      "outputs": [
        {
          "output_type": "execute_result",
          "data": {
            "text/plain": [
              "[4, 3]"
            ]
          },
          "metadata": {},
          "execution_count": 92
        }
      ]
    },
    {
      "cell_type": "code",
      "source": [
        "li[:3]    # Return list from beginning until index 3  => [1, 2, 4]"
      ],
      "metadata": {
        "colab": {
          "base_uri": "https://localhost:8080/"
        },
        "id": "03WoAKh5fbM6",
        "outputId": "ad352834-e504-4aa5-e350-e3429774e447"
      },
      "execution_count": null,
      "outputs": [
        {
          "output_type": "execute_result",
          "data": {
            "text/plain": [
              "[1, 2, 4]"
            ]
          },
          "metadata": {},
          "execution_count": 93
        }
      ]
    },
    {
      "cell_type": "code",
      "source": [
        "li[::2]   # Return list selecting elements with a step size of 2 => [1, 4]"
      ],
      "metadata": {
        "colab": {
          "base_uri": "https://localhost:8080/"
        },
        "id": "GBfwzLAPfdK0",
        "outputId": "50760a5d-f657-462d-91d9-6e84a5895f1f"
      },
      "execution_count": null,
      "outputs": [
        {
          "output_type": "execute_result",
          "data": {
            "text/plain": [
              "[1, 4]"
            ]
          },
          "metadata": {},
          "execution_count": 94
        }
      ]
    },
    {
      "cell_type": "code",
      "source": [
        "li[::-1]  # Return list in reverse order => [3, 4, 2, 1]"
      ],
      "metadata": {
        "colab": {
          "base_uri": "https://localhost:8080/"
        },
        "id": "LZNfFGZCfe5C",
        "outputId": "7ada2c6d-a6eb-4aa3-fc84-be64d4384d4d"
      },
      "execution_count": null,
      "outputs": [
        {
          "output_type": "execute_result",
          "data": {
            "text/plain": [
              "[3, 4, 2, 1]"
            ]
          },
          "metadata": {},
          "execution_count": 95
        }
      ]
    },
    {
      "cell_type": "code",
      "source": [
        "# Use any combination of these to make advanced slices\n",
        "# li[start:end:step]"
      ],
      "metadata": {
        "id": "I3GYr0X9fiNC"
      },
      "execution_count": null,
      "outputs": []
    },
    {
      "cell_type": "code",
      "source": [
        "# Make a one layer deep copy using slices\n",
        "li2 = li[:]  # => li2 = [1, 2, 4, 3] but (li2 is li) will result in false."
      ],
      "metadata": {
        "id": "t3jACXM3flha"
      },
      "execution_count": null,
      "outputs": []
    },
    {
      "cell_type": "code",
      "source": [
        "# Remove arbitrary elements from a list with \"del\"\n",
        "del li[2]  # li is now [1, 2, 3]"
      ],
      "metadata": {
        "id": "sufdmZnBfn-6"
      },
      "execution_count": null,
      "outputs": []
    },
    {
      "cell_type": "code",
      "source": [
        "# Remove first occurrence of a value\n",
        "li.remove(2)  # li is now [1, 3]"
      ],
      "metadata": {
        "id": "JUHwrGAwfsLC"
      },
      "execution_count": null,
      "outputs": []
    },
    {
      "cell_type": "code",
      "source": [
        "li.remove(2)  # Raises a ValueError as 2 is not in the list"
      ],
      "metadata": {
        "colab": {
          "base_uri": "https://localhost:8080/",
          "height": 182
        },
        "id": "K1-kgepGfvIG",
        "outputId": "79bd3d8b-0cae-4387-e9fa-77b49db0f497"
      },
      "execution_count": null,
      "outputs": [
        {
          "output_type": "error",
          "ename": "ValueError",
          "evalue": "ignored",
          "traceback": [
            "\u001b[0;31m---------------------------------------------------------------------------\u001b[0m",
            "\u001b[0;31mValueError\u001b[0m                                Traceback (most recent call last)",
            "\u001b[0;32m<ipython-input-100-7070a7b60b4f>\u001b[0m in \u001b[0;36m<cell line: 1>\u001b[0;34m()\u001b[0m\n\u001b[0;32m----> 1\u001b[0;31m \u001b[0mli\u001b[0m\u001b[0;34m.\u001b[0m\u001b[0mremove\u001b[0m\u001b[0;34m(\u001b[0m\u001b[0;36m2\u001b[0m\u001b[0;34m)\u001b[0m  \u001b[0;31m# Raises a ValueError as 2 is not in the list\u001b[0m\u001b[0;34m\u001b[0m\u001b[0;34m\u001b[0m\u001b[0m\n\u001b[0m",
            "\u001b[0;31mValueError\u001b[0m: list.remove(x): x not in list"
          ]
        }
      ]
    },
    {
      "cell_type": "code",
      "source": [
        "# Insert an element at a specific index\n",
        "li.insert(1, 2)  # li is now [1, 2, 3] again"
      ],
      "metadata": {
        "id": "jrvIgLOcfw49"
      },
      "execution_count": null,
      "outputs": []
    },
    {
      "cell_type": "code",
      "source": [
        "# Get the index of the first item found matching the argument\n",
        "li.index(2)  # => 1"
      ],
      "metadata": {
        "colab": {
          "base_uri": "https://localhost:8080/"
        },
        "id": "ViueijB7fw_R",
        "outputId": "b17cc3ae-a8b3-4634-929b-f83ef5fa8628"
      },
      "execution_count": null,
      "outputs": [
        {
          "output_type": "execute_result",
          "data": {
            "text/plain": [
              "1"
            ]
          },
          "metadata": {},
          "execution_count": 102
        }
      ]
    },
    {
      "cell_type": "code",
      "source": [
        "li.index(4)  # Raises a ValueError as 4 is not in the list"
      ],
      "metadata": {
        "colab": {
          "base_uri": "https://localhost:8080/",
          "height": 182
        },
        "id": "nzOgpe1Ff2Mi",
        "outputId": "65ced1f1-17c2-4fb4-ab9c-d63a7e492cce"
      },
      "execution_count": null,
      "outputs": [
        {
          "output_type": "error",
          "ename": "ValueError",
          "evalue": "ignored",
          "traceback": [
            "\u001b[0;31m---------------------------------------------------------------------------\u001b[0m",
            "\u001b[0;31mValueError\u001b[0m                                Traceback (most recent call last)",
            "\u001b[0;32m<ipython-input-103-0b28e0d58640>\u001b[0m in \u001b[0;36m<cell line: 1>\u001b[0;34m()\u001b[0m\n\u001b[0;32m----> 1\u001b[0;31m \u001b[0mli\u001b[0m\u001b[0;34m.\u001b[0m\u001b[0mindex\u001b[0m\u001b[0;34m(\u001b[0m\u001b[0;36m4\u001b[0m\u001b[0;34m)\u001b[0m  \u001b[0;31m# Raises a ValueError as 4 is not in the list\u001b[0m\u001b[0;34m\u001b[0m\u001b[0;34m\u001b[0m\u001b[0m\n\u001b[0m",
            "\u001b[0;31mValueError\u001b[0m: 4 is not in list"
          ]
        }
      ]
    },
    {
      "cell_type": "code",
      "source": [
        "# You can add lists\n",
        "# Note: values for li and for other_li are not modified.\n",
        "li + other_li  # => [1, 2, 3, 4, 5, 6]"
      ],
      "metadata": {
        "colab": {
          "base_uri": "https://localhost:8080/"
        },
        "id": "JD6ctZt2f5AT",
        "outputId": "644e336a-d3f6-4081-d30e-7cabd0a3d187"
      },
      "execution_count": null,
      "outputs": [
        {
          "output_type": "execute_result",
          "data": {
            "text/plain": [
              "[1, 2, 3, 4, 5, 6]"
            ]
          },
          "metadata": {},
          "execution_count": 104
        }
      ]
    },
    {
      "cell_type": "code",
      "source": [
        "# Concatenate lists with \"extend()\"\n",
        "li.extend(other_li)  # Now li is [1, 2, 3, 4, 5, 6]"
      ],
      "metadata": {
        "id": "5yoNtM_zf8_i"
      },
      "execution_count": null,
      "outputs": []
    },
    {
      "cell_type": "code",
      "source": [
        "# Check for existence in a list with \"in\"\n",
        "1 in li  # => True"
      ],
      "metadata": {
        "colab": {
          "base_uri": "https://localhost:8080/"
        },
        "id": "PtRSbMR3f-x1",
        "outputId": "33b859b7-bac3-4b22-d213-cc3bb88fcf16"
      },
      "execution_count": null,
      "outputs": [
        {
          "output_type": "execute_result",
          "data": {
            "text/plain": [
              "True"
            ]
          },
          "metadata": {},
          "execution_count": 106
        }
      ]
    },
    {
      "cell_type": "code",
      "source": [
        "# Examine the length with \"len()\"\n",
        "len(li)  # => 6"
      ],
      "metadata": {
        "colab": {
          "base_uri": "https://localhost:8080/"
        },
        "id": "5HihOrywgDsi",
        "outputId": "13b57df6-5f55-4b25-879c-8b04c6b53a26"
      },
      "execution_count": null,
      "outputs": [
        {
          "output_type": "execute_result",
          "data": {
            "text/plain": [
              "6"
            ]
          },
          "metadata": {},
          "execution_count": 107
        }
      ]
    },
    {
      "cell_type": "code",
      "source": [
        "# Tuples are like lists but are immutable.\n",
        "tup = (1, 2, 3)\n",
        "tup[0]      # => 1"
      ],
      "metadata": {
        "colab": {
          "base_uri": "https://localhost:8080/"
        },
        "id": "SJm3i0f_gFPp",
        "outputId": "795ba7c9-73f1-4c32-9d51-c1868015e550"
      },
      "execution_count": null,
      "outputs": [
        {
          "output_type": "execute_result",
          "data": {
            "text/plain": [
              "1"
            ]
          },
          "metadata": {},
          "execution_count": 108
        }
      ]
    },
    {
      "cell_type": "code",
      "source": [
        "tup[0] = 3  # Raises a TypeError"
      ],
      "metadata": {
        "colab": {
          "base_uri": "https://localhost:8080/",
          "height": 182
        },
        "id": "C5aF8hqugHjU",
        "outputId": "d5bbc6f3-b0af-473f-9be9-b8d511d6d33a"
      },
      "execution_count": null,
      "outputs": [
        {
          "output_type": "error",
          "ename": "TypeError",
          "evalue": "ignored",
          "traceback": [
            "\u001b[0;31m---------------------------------------------------------------------------\u001b[0m",
            "\u001b[0;31mTypeError\u001b[0m                                 Traceback (most recent call last)",
            "\u001b[0;32m<ipython-input-109-1a381b178dec>\u001b[0m in \u001b[0;36m<cell line: 1>\u001b[0;34m()\u001b[0m\n\u001b[0;32m----> 1\u001b[0;31m \u001b[0mtup\u001b[0m\u001b[0;34m[\u001b[0m\u001b[0;36m0\u001b[0m\u001b[0;34m]\u001b[0m \u001b[0;34m=\u001b[0m \u001b[0;36m3\u001b[0m  \u001b[0;31m# Raises a TypeError\u001b[0m\u001b[0;34m\u001b[0m\u001b[0;34m\u001b[0m\u001b[0m\n\u001b[0m",
            "\u001b[0;31mTypeError\u001b[0m: 'tuple' object does not support item assignment"
          ]
        }
      ]
    },
    {
      "cell_type": "code",
      "source": [
        "# Note that a tuple of length one has to have a comma after the last element but\n",
        "# tuples of other lengths, even zero, do not.\n",
        "type((1))   # => <class 'int'>"
      ],
      "metadata": {
        "colab": {
          "base_uri": "https://localhost:8080/"
        },
        "id": "44gIT5E5gJHt",
        "outputId": "d3f86744-6f61-4307-f5fc-c8c42d79c0e9"
      },
      "execution_count": null,
      "outputs": [
        {
          "output_type": "execute_result",
          "data": {
            "text/plain": [
              "int"
            ]
          },
          "metadata": {},
          "execution_count": 110
        }
      ]
    },
    {
      "cell_type": "code",
      "source": [
        "type((1,))  # => <class 'tuple'>"
      ],
      "metadata": {
        "colab": {
          "base_uri": "https://localhost:8080/"
        },
        "id": "pqipkg6bgLmE",
        "outputId": "49027986-ddf9-4c5c-fef8-d08e6f8e8500"
      },
      "execution_count": null,
      "outputs": [
        {
          "output_type": "execute_result",
          "data": {
            "text/plain": [
              "tuple"
            ]
          },
          "metadata": {},
          "execution_count": 111
        }
      ]
    },
    {
      "cell_type": "code",
      "source": [
        "type(())    # => <class 'tuple'>"
      ],
      "metadata": {
        "colab": {
          "base_uri": "https://localhost:8080/"
        },
        "id": "7a71Rkw3gQx6",
        "outputId": "0f2394ff-4d30-4f16-f68b-39aef61c422f"
      },
      "execution_count": null,
      "outputs": [
        {
          "output_type": "execute_result",
          "data": {
            "text/plain": [
              "tuple"
            ]
          },
          "metadata": {},
          "execution_count": 112
        }
      ]
    },
    {
      "cell_type": "code",
      "source": [
        "# You can do most of the list operations on tuples too\n",
        "len(tup)         # => 3"
      ],
      "metadata": {
        "colab": {
          "base_uri": "https://localhost:8080/"
        },
        "id": "igA5Ua0XgSwG",
        "outputId": "5ede08e5-f3df-4f81-ddab-092ea90d37b3"
      },
      "execution_count": null,
      "outputs": [
        {
          "output_type": "execute_result",
          "data": {
            "text/plain": [
              "3"
            ]
          },
          "metadata": {},
          "execution_count": 113
        }
      ]
    },
    {
      "cell_type": "code",
      "source": [
        "tup + (4, 5, 6)  # => (1, 2, 3, 4, 5, 6)"
      ],
      "metadata": {
        "colab": {
          "base_uri": "https://localhost:8080/"
        },
        "id": "lZFkOk8HgUnz",
        "outputId": "3eedda45-0c42-42c2-c18e-2797089464f4"
      },
      "execution_count": null,
      "outputs": [
        {
          "output_type": "execute_result",
          "data": {
            "text/plain": [
              "(1, 2, 3, 4, 5, 6)"
            ]
          },
          "metadata": {},
          "execution_count": 114
        }
      ]
    },
    {
      "cell_type": "code",
      "source": [
        "tup[:2]          # => (1, 2)"
      ],
      "metadata": {
        "colab": {
          "base_uri": "https://localhost:8080/"
        },
        "id": "4UXr_o4rgUrC",
        "outputId": "d8f02639-1fd2-4eb6-8aa1-39cf4547cf36"
      },
      "execution_count": null,
      "outputs": [
        {
          "output_type": "execute_result",
          "data": {
            "text/plain": [
              "(1, 2)"
            ]
          },
          "metadata": {},
          "execution_count": 115
        }
      ]
    },
    {
      "cell_type": "code",
      "source": [
        "2 in tup         # => True"
      ],
      "metadata": {
        "colab": {
          "base_uri": "https://localhost:8080/"
        },
        "id": "0XdxLHaUgXdS",
        "outputId": "3f550315-69e0-4ae5-cff6-39b24afb4d0b"
      },
      "execution_count": null,
      "outputs": [
        {
          "output_type": "execute_result",
          "data": {
            "text/plain": [
              "True"
            ]
          },
          "metadata": {},
          "execution_count": 116
        }
      ]
    },
    {
      "cell_type": "code",
      "source": [
        "# You can unpack tuples (or lists) into variables\n",
        "a, b, c = (1, 2, 3)  # a is now 1, b is now 2 and c is now 3"
      ],
      "metadata": {
        "id": "aTQkFIyWgZVC"
      },
      "execution_count": null,
      "outputs": []
    },
    {
      "cell_type": "code",
      "source": [
        "# You can also do extended unpacking\n",
        "a, *b, c = (1, 2, 3, 4)  # a is now 1, b is now [2, 3] and c is now 4"
      ],
      "metadata": {
        "id": "YfsKRvJkgZnR"
      },
      "execution_count": null,
      "outputs": []
    },
    {
      "cell_type": "code",
      "source": [
        "# Tuples are created by default if you leave out the parentheses\n",
        "d, e, f = 4, 5, 6  # tuple 4, 5, 6 is unpacked into variables d, e and f"
      ],
      "metadata": {
        "id": "Lcg3OgivgZqN"
      },
      "execution_count": null,
      "outputs": []
    },
    {
      "cell_type": "code",
      "source": [
        "# respectively such that d = 4, e = 5 and f = 6\n",
        "# Now look how easy it is to swap two values\n",
        "e, d = d, e  # d is now 5 and e is now 4\n",
        "\n",
        "x, y = y, x"
      ],
      "metadata": {
        "id": "FqMxek9vgZxs"
      },
      "execution_count": null,
      "outputs": []
    },
    {
      "cell_type": "code",
      "source": [
        "# Dictionaries store mappings from keys to values\n",
        "empty_dict = {}\n",
        "# Here is a prefilled dictionary\n",
        "filled_dict = {\"one\": 1, \"two\": 2, \"three\": 3}"
      ],
      "metadata": {
        "id": "IHFPcGahgmhW"
      },
      "execution_count": null,
      "outputs": []
    },
    {
      "cell_type": "code",
      "source": [
        "# Note keys for dictionaries have to be immutable types. This is to ensure that\n",
        "# the key can be converted to a constant hash value for quick look-ups.\n",
        "# Immutable types include ints, floats, strings, tuples.\n",
        "invalid_dict = {[1,2,3]: \"123\"}  # => Yield a TypeError: unhashable type: 'list'"
      ],
      "metadata": {
        "colab": {
          "base_uri": "https://localhost:8080/",
          "height": 219
        },
        "id": "uh1EQk7kgokp",
        "outputId": "e3945acc-e319-4fbc-f5d0-f412acb49233"
      },
      "execution_count": null,
      "outputs": [
        {
          "output_type": "error",
          "ename": "TypeError",
          "evalue": "ignored",
          "traceback": [
            "\u001b[0;31m---------------------------------------------------------------------------\u001b[0m",
            "\u001b[0;31mTypeError\u001b[0m                                 Traceback (most recent call last)",
            "\u001b[0;32m<ipython-input-122-c6e1dd81c663>\u001b[0m in \u001b[0;36m<cell line: 4>\u001b[0;34m()\u001b[0m\n\u001b[1;32m      2\u001b[0m \u001b[0;31m# the key can be converted to a constant hash value for quick look-ups.\u001b[0m\u001b[0;34m\u001b[0m\u001b[0;34m\u001b[0m\u001b[0m\n\u001b[1;32m      3\u001b[0m \u001b[0;31m# Immutable types include ints, floats, strings, tuples.\u001b[0m\u001b[0;34m\u001b[0m\u001b[0;34m\u001b[0m\u001b[0m\n\u001b[0;32m----> 4\u001b[0;31m \u001b[0minvalid_dict\u001b[0m \u001b[0;34m=\u001b[0m \u001b[0;34m{\u001b[0m\u001b[0;34m[\u001b[0m\u001b[0;36m1\u001b[0m\u001b[0;34m,\u001b[0m\u001b[0;36m2\u001b[0m\u001b[0;34m,\u001b[0m\u001b[0;36m3\u001b[0m\u001b[0;34m]\u001b[0m\u001b[0;34m:\u001b[0m \u001b[0;34m\"123\"\u001b[0m\u001b[0;34m}\u001b[0m  \u001b[0;31m# => Yield a TypeError: unhashable type: 'list'\u001b[0m\u001b[0;34m\u001b[0m\u001b[0;34m\u001b[0m\u001b[0m\n\u001b[0m",
            "\u001b[0;31mTypeError\u001b[0m: unhashable type: 'list'"
          ]
        }
      ]
    },
    {
      "cell_type": "code",
      "source": [
        "valid_dict = {(1,2,3):[1,2,3]}   # Values can be of any type, however."
      ],
      "metadata": {
        "id": "fDyfd9Cfgslm"
      },
      "execution_count": null,
      "outputs": []
    },
    {
      "cell_type": "code",
      "source": [
        "# Look up values with []\n",
        "filled_dict[\"one\"]  # => 1\n"
      ],
      "metadata": {
        "colab": {
          "base_uri": "https://localhost:8080/"
        },
        "id": "Soww2NPOU4XL",
        "outputId": "d26c55bc-e7ef-4c12-8ea9-471ecd31afcc"
      },
      "execution_count": null,
      "outputs": [
        {
          "output_type": "execute_result",
          "data": {
            "text/plain": [
              "1"
            ]
          },
          "metadata": {},
          "execution_count": 124
        }
      ]
    },
    {
      "cell_type": "code",
      "source": [
        "# Get all keys as an iterable with \"keys()\". We need to wrap the call in list()\n",
        "# to turn it into a list. We'll talk about those later.  Note - for Python\n",
        "# versions <3.7, dictionary key ordering is not guaranteed. Your results might\n",
        "# not match the example below exactly. However, as of Python 3.7, dictionary\n",
        "# items maintain the order at which they are inserted into the dictionary.\n",
        "#list(filled_dict.keys())  # => [\"three\", \"two\", \"one\"] in Python <3.7\n",
        "list(filled_dict.keys())  # => [\"one\", \"two\", \"three\"] in Python 3.7+\n"
      ],
      "metadata": {
        "colab": {
          "base_uri": "https://localhost:8080/"
        },
        "id": "5BZd325tWiN3",
        "outputId": "d169e6a7-c779-4527-e82d-b491e15bd93d"
      },
      "execution_count": null,
      "outputs": [
        {
          "output_type": "execute_result",
          "data": {
            "text/plain": [
              "['one', 'two', 'three']"
            ]
          },
          "metadata": {},
          "execution_count": 125
        }
      ]
    },
    {
      "cell_type": "code",
      "source": [
        "# Get all values as an iterable with \"values()\". Once again we need to wrap it\n",
        "# in list() to get it out of the iterable. Note - Same as above regarding key\n",
        "# ordering.\n",
        "#list(filled_dict.values())  # => [3, 2, 1]  in Python <3.7\n",
        "list(filled_dict.values())  # => [1, 2, 3] in Python 3.7+\n"
      ],
      "metadata": {
        "colab": {
          "base_uri": "https://localhost:8080/"
        },
        "id": "xoUAOU3nWrbC",
        "outputId": "190592a6-cfa5-4917-8c95-48db90baa541"
      },
      "execution_count": null,
      "outputs": [
        {
          "output_type": "execute_result",
          "data": {
            "text/plain": [
              "[1, 2, 3]"
            ]
          },
          "metadata": {},
          "execution_count": 126
        }
      ]
    },
    {
      "cell_type": "code",
      "source": [
        "# Check for existence of keys in a dictionary with \"in\"\n",
        "\"one\" in filled_dict  # => True\n"
      ],
      "metadata": {
        "colab": {
          "base_uri": "https://localhost:8080/"
        },
        "id": "9SJp_dBrWxtp",
        "outputId": "8a616072-2880-4a1a-afcf-8c49b2af8a07"
      },
      "execution_count": null,
      "outputs": [
        {
          "output_type": "execute_result",
          "data": {
            "text/plain": [
              "True"
            ]
          },
          "metadata": {},
          "execution_count": 127
        }
      ]
    },
    {
      "cell_type": "code",
      "source": [
        "1 in filled_dict      # => False"
      ],
      "metadata": {
        "colab": {
          "base_uri": "https://localhost:8080/"
        },
        "id": "D7bUrII0W1JT",
        "outputId": "c8038e62-a10a-4408-d3dc-02eb6436a0ea"
      },
      "execution_count": null,
      "outputs": [
        {
          "output_type": "execute_result",
          "data": {
            "text/plain": [
              "False"
            ]
          },
          "metadata": {},
          "execution_count": 128
        }
      ]
    },
    {
      "cell_type": "code",
      "source": [
        "# Looking up a non-existing key is a KeyError\n",
        "filled_dict[\"four\"]  # KeyError\n"
      ],
      "metadata": {
        "colab": {
          "base_uri": "https://localhost:8080/",
          "height": 200
        },
        "id": "R1UdScNhW532",
        "outputId": "8ecb830e-d60c-486a-d48a-f5d226d85792"
      },
      "execution_count": null,
      "outputs": [
        {
          "output_type": "error",
          "ename": "KeyError",
          "evalue": "ignored",
          "traceback": [
            "\u001b[0;31m---------------------------------------------------------------------------\u001b[0m",
            "\u001b[0;31mKeyError\u001b[0m                                  Traceback (most recent call last)",
            "\u001b[0;32m<ipython-input-129-1f9e97a788f6>\u001b[0m in \u001b[0;36m<cell line: 2>\u001b[0;34m()\u001b[0m\n\u001b[1;32m      1\u001b[0m \u001b[0;31m# Looking up a non-existing key is a KeyError\u001b[0m\u001b[0;34m\u001b[0m\u001b[0;34m\u001b[0m\u001b[0m\n\u001b[0;32m----> 2\u001b[0;31m \u001b[0mfilled_dict\u001b[0m\u001b[0;34m[\u001b[0m\u001b[0;34m\"four\"\u001b[0m\u001b[0;34m]\u001b[0m  \u001b[0;31m# KeyError\u001b[0m\u001b[0;34m\u001b[0m\u001b[0;34m\u001b[0m\u001b[0m\n\u001b[0m",
            "\u001b[0;31mKeyError\u001b[0m: 'four'"
          ]
        }
      ]
    },
    {
      "cell_type": "code",
      "source": [
        "# Use \"get()\" method to avoid the KeyError\n",
        "filled_dict.get(\"one\")      # => 1\n"
      ],
      "metadata": {
        "colab": {
          "base_uri": "https://localhost:8080/"
        },
        "id": "xIY1tA-CW8jP",
        "outputId": "24d76ee7-d2cd-40e9-d319-1b72560512f0"
      },
      "execution_count": null,
      "outputs": [
        {
          "output_type": "execute_result",
          "data": {
            "text/plain": [
              "1"
            ]
          },
          "metadata": {},
          "execution_count": 130
        }
      ]
    },
    {
      "cell_type": "code",
      "source": [
        "filled_dict.get(\"four\")     # => None\n"
      ],
      "metadata": {
        "id": "hQzHsYFvXDvX"
      },
      "execution_count": null,
      "outputs": []
    },
    {
      "cell_type": "code",
      "source": [
        "# The get method supports a default argument when the value is missing\n",
        "filled_dict.get(\"one\", 4)   # => 1"
      ],
      "metadata": {
        "colab": {
          "base_uri": "https://localhost:8080/"
        },
        "id": "WziLF2JXXBcv",
        "outputId": "20433f4b-7013-48a0-e80d-e0545d70bf89"
      },
      "execution_count": null,
      "outputs": [
        {
          "output_type": "execute_result",
          "data": {
            "text/plain": [
              "1"
            ]
          },
          "metadata": {},
          "execution_count": 132
        }
      ]
    },
    {
      "cell_type": "code",
      "source": [
        "filled_dict.get(\"four\", 4)  # => 4\n"
      ],
      "metadata": {
        "colab": {
          "base_uri": "https://localhost:8080/"
        },
        "id": "qYwCw2fSXNLU",
        "outputId": "3bc93b38-a90a-45ea-a337-a3cd93170c37"
      },
      "execution_count": null,
      "outputs": [
        {
          "output_type": "execute_result",
          "data": {
            "text/plain": [
              "4"
            ]
          },
          "metadata": {},
          "execution_count": 133
        }
      ]
    },
    {
      "cell_type": "code",
      "source": [
        "# \"setdefault()\" inserts into a dictionary only if the given key isn't present\n",
        "filled_dict.setdefault(\"five\", 5)  # filled_dict[\"five\"] is set to 5"
      ],
      "metadata": {
        "colab": {
          "base_uri": "https://localhost:8080/"
        },
        "id": "cCXT4m9FXdrc",
        "outputId": "13d9b3e5-321e-49eb-8343-73f098befd2b"
      },
      "execution_count": null,
      "outputs": [
        {
          "output_type": "execute_result",
          "data": {
            "text/plain": [
              "5"
            ]
          },
          "metadata": {},
          "execution_count": 134
        }
      ]
    },
    {
      "cell_type": "code",
      "source": [
        "filled_dict.setdefault(\"five\", 6)  # filled_dict[\"five\"] is still 5\n"
      ],
      "metadata": {
        "colab": {
          "base_uri": "https://localhost:8080/"
        },
        "id": "uYYB8_llXd2D",
        "outputId": "44a6ec53-875d-4133-87cc-9690f7a1f190"
      },
      "execution_count": null,
      "outputs": [
        {
          "output_type": "execute_result",
          "data": {
            "text/plain": [
              "5"
            ]
          },
          "metadata": {},
          "execution_count": 135
        }
      ]
    },
    {
      "cell_type": "code",
      "source": [
        "# Adding to a dictionary\n",
        "filled_dict.update({\"four\":4})  # => {\"one\": 1, \"two\": 2, \"three\": 3, \"four\": 4}\n"
      ],
      "metadata": {
        "id": "Umb6J9uZXd-x"
      },
      "execution_count": null,
      "outputs": []
    },
    {
      "cell_type": "code",
      "source": [
        "filled_dict[\"four\"] = 4         # another way to add to dict\n"
      ],
      "metadata": {
        "id": "Zrr9JGgIXeA_"
      },
      "execution_count": null,
      "outputs": []
    },
    {
      "cell_type": "code",
      "source": [
        "# Remove keys from a dictionary with del\n",
        "del filled_dict[\"one\"]  # Removes the key \"one\" from filled dict\n"
      ],
      "metadata": {
        "id": "5sp7VAuEXgT_"
      },
      "execution_count": null,
      "outputs": []
    },
    {
      "cell_type": "code",
      "source": [
        "# From Python 3.5 you can also use the additional unpacking options\n",
        "{'a': 1, **{'b': 2}}  # => {'a': 1, 'b': 2}"
      ],
      "metadata": {
        "colab": {
          "base_uri": "https://localhost:8080/"
        },
        "id": "9-wPDIcHXgih",
        "outputId": "1b353d28-9229-4e26-9e84-e6b586762fd2"
      },
      "execution_count": null,
      "outputs": [
        {
          "output_type": "execute_result",
          "data": {
            "text/plain": [
              "{'a': 1, 'b': 2}"
            ]
          },
          "metadata": {},
          "execution_count": 139
        }
      ]
    },
    {
      "cell_type": "code",
      "source": [
        "{'a': 1, **{'a': 2}}  # => {'a': 2}\n"
      ],
      "metadata": {
        "colab": {
          "base_uri": "https://localhost:8080/"
        },
        "id": "3U-Pw2TgX2_j",
        "outputId": "9d3e8507-578f-4876-82ab-6f982bb68b99"
      },
      "execution_count": null,
      "outputs": [
        {
          "output_type": "execute_result",
          "data": {
            "text/plain": [
              "{'a': 2}"
            ]
          },
          "metadata": {},
          "execution_count": 140
        }
      ]
    },
    {
      "cell_type": "code",
      "source": [
        "# Sets store ... well sets\n",
        "empty_set = set()\n"
      ],
      "metadata": {
        "id": "Ng5GqSUZX3Bu"
      },
      "execution_count": null,
      "outputs": []
    },
    {
      "cell_type": "code",
      "source": [
        "# Initialize a set with a bunch of values.\n",
        "some_set = {1, 1, 2, 2, 3, 4}  # some_set is now {1, 2, 3, 4}\n"
      ],
      "metadata": {
        "id": "u4rcoNtMX3FN"
      },
      "execution_count": null,
      "outputs": []
    },
    {
      "cell_type": "code",
      "source": [
        "# Similar to keys of a dictionary, elements of a set have to be immutable.\n",
        "invalid_set = {[1], 1}  # => Raises a TypeError: unhashable type: 'list'\n"
      ],
      "metadata": {
        "colab": {
          "base_uri": "https://localhost:8080/",
          "height": 200
        },
        "id": "jD2uoqyxYD0B",
        "outputId": "cbd5af7e-dc97-445c-f613-11695d5389fa"
      },
      "execution_count": null,
      "outputs": [
        {
          "output_type": "error",
          "ename": "TypeError",
          "evalue": "ignored",
          "traceback": [
            "\u001b[0;31m---------------------------------------------------------------------------\u001b[0m",
            "\u001b[0;31mTypeError\u001b[0m                                 Traceback (most recent call last)",
            "\u001b[0;32m<ipython-input-143-219e9acfeee9>\u001b[0m in \u001b[0;36m<cell line: 2>\u001b[0;34m()\u001b[0m\n\u001b[1;32m      1\u001b[0m \u001b[0;31m# Similar to keys of a dictionary, elements of a set have to be immutable.\u001b[0m\u001b[0;34m\u001b[0m\u001b[0;34m\u001b[0m\u001b[0m\n\u001b[0;32m----> 2\u001b[0;31m \u001b[0minvalid_set\u001b[0m \u001b[0;34m=\u001b[0m \u001b[0;34m{\u001b[0m\u001b[0;34m[\u001b[0m\u001b[0;36m1\u001b[0m\u001b[0;34m]\u001b[0m\u001b[0;34m,\u001b[0m \u001b[0;36m1\u001b[0m\u001b[0;34m}\u001b[0m  \u001b[0;31m# => Raises a TypeError: unhashable type: 'list'\u001b[0m\u001b[0;34m\u001b[0m\u001b[0;34m\u001b[0m\u001b[0m\n\u001b[0m",
            "\u001b[0;31mTypeError\u001b[0m: unhashable type: 'list'"
          ]
        }
      ]
    },
    {
      "cell_type": "code",
      "source": [
        "valid_set = {(1,), 1}\n"
      ],
      "metadata": {
        "id": "ns2xrBWjYD9X"
      },
      "execution_count": null,
      "outputs": []
    },
    {
      "cell_type": "code",
      "source": [
        "# Add one more item to the set\n",
        "filled_set = some_set\n"
      ],
      "metadata": {
        "id": "iDA_DkyPYWUE"
      },
      "execution_count": null,
      "outputs": []
    },
    {
      "cell_type": "code",
      "source": [
        "filled_set.add(5)  # filled_set is now {1, 2, 3, 4, 5}"
      ],
      "metadata": {
        "id": "Oyql15LvYeZf"
      },
      "execution_count": null,
      "outputs": []
    },
    {
      "cell_type": "code",
      "source": [
        "# Sets do not have duplicate elements\n",
        "filled_set.add(5)  # it remains as before {1, 2, 3, 4, 5}\n"
      ],
      "metadata": {
        "id": "zVKcA5uiYguo"
      },
      "execution_count": null,
      "outputs": []
    },
    {
      "cell_type": "code",
      "source": [
        "# Do set intersection with &\n",
        "other_set = {3, 4, 5, 6}\n",
        "filled_set & other_set  # => {3, 4, 5}\n"
      ],
      "metadata": {
        "colab": {
          "base_uri": "https://localhost:8080/"
        },
        "id": "ENneJTClYg09",
        "outputId": "c6462368-d4a5-4b47-cebb-2706826eb068"
      },
      "execution_count": null,
      "outputs": [
        {
          "output_type": "execute_result",
          "data": {
            "text/plain": [
              "{3, 4, 5}"
            ]
          },
          "metadata": {},
          "execution_count": 148
        }
      ]
    },
    {
      "cell_type": "code",
      "source": [
        "# Do set union with |\n",
        "filled_set | other_set  # => {1, 2, 3, 4, 5, 6}\n"
      ],
      "metadata": {
        "colab": {
          "base_uri": "https://localhost:8080/"
        },
        "id": "oujRvCqCYhEo",
        "outputId": "127435b9-2247-40a2-8cf2-d2fa8a578b4f"
      },
      "execution_count": null,
      "outputs": [
        {
          "output_type": "execute_result",
          "data": {
            "text/plain": [
              "{1, 2, 3, 4, 5, 6}"
            ]
          },
          "metadata": {},
          "execution_count": 149
        }
      ]
    },
    {
      "cell_type": "code",
      "source": [
        "# Do set difference with -\n",
        "{1, 2, 3, 4} - {2, 3, 5}  # => {1, 4}\n"
      ],
      "metadata": {
        "colab": {
          "base_uri": "https://localhost:8080/"
        },
        "id": "ABFCilmtYhQv",
        "outputId": "dcb45eea-b530-496f-ae63-8fe9de0f5c07"
      },
      "execution_count": null,
      "outputs": [
        {
          "output_type": "execute_result",
          "data": {
            "text/plain": [
              "{1, 4}"
            ]
          },
          "metadata": {},
          "execution_count": 150
        }
      ]
    },
    {
      "cell_type": "code",
      "source": [
        "# Do set symmetric difference with ^\n",
        "{1, 2, 3, 4} ^ {2, 3, 5}  # => {1, 4, 5}\n"
      ],
      "metadata": {
        "colab": {
          "base_uri": "https://localhost:8080/"
        },
        "id": "HB3sgsybYwN2",
        "outputId": "682dfa40-cb13-4f3d-fa5d-9ec9de53dbe3"
      },
      "execution_count": null,
      "outputs": [
        {
          "output_type": "execute_result",
          "data": {
            "text/plain": [
              "{1, 4, 5}"
            ]
          },
          "metadata": {},
          "execution_count": 151
        }
      ]
    },
    {
      "cell_type": "code",
      "source": [
        "# Check if set on the left is a superset of set on the right\n",
        "{1, 2} >= {1, 2, 3} # => False"
      ],
      "metadata": {
        "colab": {
          "base_uri": "https://localhost:8080/"
        },
        "id": "33IOlpIPYwUS",
        "outputId": "4ff641f9-8732-4c8d-e215-34dd7b72b370"
      },
      "execution_count": null,
      "outputs": [
        {
          "output_type": "execute_result",
          "data": {
            "text/plain": [
              "False"
            ]
          },
          "metadata": {},
          "execution_count": 152
        }
      ]
    },
    {
      "cell_type": "code",
      "source": [
        "# Check if set on the left is a subset of set on the right\n",
        "{1, 2} <= {1, 2, 3} # => True\n"
      ],
      "metadata": {
        "colab": {
          "base_uri": "https://localhost:8080/"
        },
        "id": "p5Ak17PTYwZB",
        "outputId": "955d748f-b230-4f96-a596-5930cd315e2a"
      },
      "execution_count": null,
      "outputs": [
        {
          "output_type": "execute_result",
          "data": {
            "text/plain": [
              "True"
            ]
          },
          "metadata": {},
          "execution_count": 153
        }
      ]
    },
    {
      "cell_type": "code",
      "source": [
        "# Check for existence in a set with in\n",
        "2 in filled_set   # => True\n",
        "10 in filled_set  # => False\n",
        "\n",
        "# Make a one layer deep copy\n",
        "filled_set = some_set.copy()  # filled_set is {1, 2, 3, 4, 5}\n",
        "filled_set is some_set        # => False\n"
      ],
      "metadata": {
        "colab": {
          "base_uri": "https://localhost:8080/"
        },
        "id": "uTkqg3GGYwe8",
        "outputId": "91e2909a-6da7-4a76-86ef-eaab27f3c3e7"
      },
      "execution_count": null,
      "outputs": [
        {
          "output_type": "execute_result",
          "data": {
            "text/plain": [
              "False"
            ]
          },
          "metadata": {},
          "execution_count": 154
        }
      ]
    },
    {
      "cell_type": "markdown",
      "source": [
        "####################################################\n",
        "## 3. Control Flow and Iterables\n",
        "####################################################"
      ],
      "metadata": {
        "id": "TfRMaR9yZBhj"
      }
    },
    {
      "cell_type": "code",
      "source": [
        "# Let's just make a variable\n",
        "some_var = 5\n",
        "\n",
        "# Here is an if statement. Indentation is significant in Python!\n",
        "# Convention is to use four spaces, not tabs.\n",
        "# This prints \"some_var is smaller than 10\"\n",
        "if some_var > 10:\n",
        "    print(\"some_var is totally bigger than 10.\")\n",
        "elif some_var < 10:    # This elif clause is optional.\n",
        "    print(\"some_var is smaller than 10.\")\n",
        "else:                  # This is optional too.\n",
        "    print(\"some_var is indeed 10.\")\n"
      ],
      "metadata": {
        "colab": {
          "base_uri": "https://localhost:8080/"
        },
        "id": "uUW52euNZFxy",
        "outputId": "1e9acfed-58b1-47d1-f9a7-6644dc1b5e6c"
      },
      "execution_count": null,
      "outputs": [
        {
          "output_type": "stream",
          "name": "stdout",
          "text": [
            "some_var is smaller than 10.\n"
          ]
        }
      ]
    },
    {
      "cell_type": "code",
      "source": [
        "\"\"\"\n",
        "For loops iterate over lists\n",
        "prints:\n",
        "    dog is a mammal\n",
        "    cat is a mammal\n",
        "    mouse is a mammal\n",
        "\"\"\"\n",
        "for animal in [\"dog\", \"cat\", \"mouse\"]:\n",
        "    # You can use format() to interpolate formatted strings\n",
        "    print(\"{} is a mammal\".format(animal))\n",
        "\n"
      ],
      "metadata": {
        "colab": {
          "base_uri": "https://localhost:8080/"
        },
        "id": "mfySasYHZF0n",
        "outputId": "6eefa528-ae19-4450-d01a-3dfd3bcb0b87"
      },
      "execution_count": null,
      "outputs": [
        {
          "output_type": "stream",
          "name": "stdout",
          "text": [
            "dog is a mammal\n",
            "cat is a mammal\n",
            "mouse is a mammal\n"
          ]
        }
      ]
    },
    {
      "cell_type": "code",
      "source": [
        "\"\"\"\n",
        "\"range(number)\" returns an iterable of numbers\n",
        "from zero up to (but excluding) the given number\n",
        "prints:\n",
        "    0\n",
        "    1\n",
        "    2\n",
        "    3\n",
        "\"\"\"\n",
        "for i in range(4):\n",
        "    print(i)\n"
      ],
      "metadata": {
        "colab": {
          "base_uri": "https://localhost:8080/"
        },
        "id": "X8zO_KZ4ZF4C",
        "outputId": "ad596c44-db6c-4eea-d828-5e8a21cdfa78"
      },
      "execution_count": null,
      "outputs": [
        {
          "output_type": "stream",
          "name": "stdout",
          "text": [
            "0\n",
            "1\n",
            "2\n",
            "3\n"
          ]
        }
      ]
    },
    {
      "cell_type": "code",
      "source": [
        "\"\"\"\n",
        "\"range(lower, upper)\" returns an iterable of numbers\n",
        "from the lower number to the upper number\n",
        "prints:\n",
        "    4\n",
        "    5\n",
        "    6\n",
        "    7\n",
        "\"\"\"\n",
        "for i in range(4, 8):\n",
        "    print(i)\n"
      ],
      "metadata": {
        "colab": {
          "base_uri": "https://localhost:8080/"
        },
        "id": "jTvCVsBJZF7Z",
        "outputId": "75b3051b-7b46-49da-af81-ebfe3662b5cd"
      },
      "execution_count": null,
      "outputs": [
        {
          "output_type": "stream",
          "name": "stdout",
          "text": [
            "4\n",
            "5\n",
            "6\n",
            "7\n"
          ]
        }
      ]
    },
    {
      "cell_type": "code",
      "source": [
        "\"\"\"\n",
        "\"range(lower, upper, step)\" returns an iterable of numbers\n",
        "from the lower number to the upper number, while incrementing\n",
        "by step. If step is not indicated, the default value is 1.\n",
        "prints:\n",
        "    4\n",
        "    6\n",
        "\"\"\"\n",
        "for i in range(4, 8, 2):\n",
        "    print(i)\n"
      ],
      "metadata": {
        "colab": {
          "base_uri": "https://localhost:8080/"
        },
        "id": "3p9YzWL7ZF-9",
        "outputId": "e8a6a7d4-bfc3-49b6-fc06-c539ea696af1"
      },
      "execution_count": null,
      "outputs": [
        {
          "output_type": "stream",
          "name": "stdout",
          "text": [
            "4\n",
            "6\n"
          ]
        }
      ]
    },
    {
      "cell_type": "code",
      "source": [
        "\"\"\"\n",
        "Loop over a list to retrieve both the index and the value of each list item:\n",
        "    0 dog\n",
        "    1 cat\n",
        "    2 mouse\n",
        "\"\"\"\n",
        "animals = [\"dog\", \"cat\", \"mouse\"]\n",
        "for i, value in enumerate(animals):\n",
        "    print(i, value)\n"
      ],
      "metadata": {
        "colab": {
          "base_uri": "https://localhost:8080/"
        },
        "id": "mRIE3Q_0ZGDe",
        "outputId": "6c47e586-73ab-423d-a4ca-0ba417afb52c"
      },
      "execution_count": null,
      "outputs": [
        {
          "output_type": "stream",
          "name": "stdout",
          "text": [
            "0 dog\n",
            "1 cat\n",
            "2 mouse\n"
          ]
        }
      ]
    },
    {
      "cell_type": "code",
      "source": [
        "\"\"\"\n",
        "While loops go until a condition is no longer met.\n",
        "prints:\n",
        "    0\n",
        "    1\n",
        "    2\n",
        "    3\n",
        "\"\"\"\n",
        "x = 0\n",
        "while x < 4:\n",
        "    print(x)\n",
        "    x += 1  # Shorthand for x = x + 1\n"
      ],
      "metadata": {
        "colab": {
          "base_uri": "https://localhost:8080/"
        },
        "id": "UAwLItIUZc4n",
        "outputId": "98d547c4-da96-42fc-e087-359c2f6f7033"
      },
      "execution_count": null,
      "outputs": [
        {
          "output_type": "stream",
          "name": "stdout",
          "text": [
            "0\n",
            "1\n",
            "2\n",
            "3\n"
          ]
        }
      ]
    },
    {
      "cell_type": "code",
      "source": [
        "# Handle exceptions with a try/except block\n",
        "try:\n",
        "    # Use \"raise\" to raise an error\n",
        "\n",
        "    raise IndexError(\"This is an index error\")\n",
        "\n",
        "except IndexError as e:\n",
        "    print(\"HHAHHAHHA we are making joke\")\n",
        "    print(e)\n",
        "    pass               # Refrain from this, provide a recovery (next example).\n",
        "except (TypeError, NameError):\n",
        "       pass              # Multiple exceptions can be processed jointly.\n",
        "else:                    # Optional clause to the try/except block. Must follow\n",
        "                         # all except blocks.\n",
        "    print(\"All good!\")   # Runs only if the code in try raises no exceptions\n",
        "finally:                 # Execute under all circumstances\n",
        "    print(\"We can clean up resources here\")\n"
      ],
      "metadata": {
        "colab": {
          "base_uri": "https://localhost:8080/"
        },
        "id": "kUW7BxpvZhla",
        "outputId": "97161301-f0a4-46aa-8611-336b8b54a965"
      },
      "execution_count": null,
      "outputs": [
        {
          "output_type": "stream",
          "name": "stdout",
          "text": [
            "HHAHHAHHA we are making joke\n",
            "This is an index error\n",
            "We can clean up resources here\n"
          ]
        }
      ]
    },
    {
      "cell_type": "code",
      "source": [],
      "metadata": {
        "id": "uhFbwyK053o1"
      },
      "execution_count": null,
      "outputs": []
    },
    {
      "cell_type": "code",
      "source": [
        "try:\n",
        "    raise Exception('spam', 'eggs')\n",
        "except Exception as inst:\n",
        "    print(type(inst))    # the exception type\n",
        "    print(inst.args)     # arguments stored in .args\n",
        "    print(inst)          # __str__ allows args to be printed directly,\n",
        "                         # but may be overridden in exception subclasses\n",
        "    x, y = inst.args     # unpack args\n",
        "    print('x =', x)\n",
        "    print('y =', y)"
      ],
      "metadata": {
        "colab": {
          "base_uri": "https://localhost:8080/"
        },
        "id": "gS14hSTjbXRS",
        "outputId": "c8c407f9-886a-4943-9cf6-4c1eee7f1cc3"
      },
      "execution_count": null,
      "outputs": [
        {
          "output_type": "stream",
          "name": "stdout",
          "text": [
            "<class 'Exception'>\n",
            "('spam', 'eggs')\n",
            "('spam', 'eggs')\n",
            "x = spam\n",
            "y = eggs\n"
          ]
        }
      ]
    },
    {
      "cell_type": "code",
      "source": [
        "# Writing to a file\n",
        "contents = {\"aa\": 12, \"bb\": 21} #\n",
        "with open(\"myfile1.txt\", \"w+\") as file:\n",
        "    file.write(str(contents))        # writes a string to a file\n"
      ],
      "metadata": {
        "id": "oKtjMjcMcXPi"
      },
      "execution_count": null,
      "outputs": []
    },
    {
      "cell_type": "code",
      "source": [
        "# Instead of try/finally to cleanup resources you can use a with statement\n",
        "with open(\"myfile.txt\") as f:\n",
        "    for line in f:\n",
        "        print(line)"
      ],
      "metadata": {
        "colab": {
          "base_uri": "https://localhost:8080/",
          "height": 237
        },
        "id": "Nf4OwKJNZh1R",
        "outputId": "ae155021-65e7-4fde-d0d4-6dfb9899f694"
      },
      "execution_count": null,
      "outputs": [
        {
          "output_type": "error",
          "ename": "FileNotFoundError",
          "evalue": "ignored",
          "traceback": [
            "\u001b[0;31m---------------------------------------------------------------------------\u001b[0m",
            "\u001b[0;31mFileNotFoundError\u001b[0m                         Traceback (most recent call last)",
            "\u001b[0;32m<ipython-input-218-4be77cea7790>\u001b[0m in \u001b[0;36m<cell line: 2>\u001b[0;34m()\u001b[0m\n\u001b[1;32m      1\u001b[0m \u001b[0;31m# Instead of try/finally to cleanup resources you can use a with statement\u001b[0m\u001b[0;34m\u001b[0m\u001b[0;34m\u001b[0m\u001b[0m\n\u001b[0;32m----> 2\u001b[0;31m \u001b[0;32mwith\u001b[0m \u001b[0mopen\u001b[0m\u001b[0;34m(\u001b[0m\u001b[0;34m\"myfile.txt\"\u001b[0m\u001b[0;34m)\u001b[0m \u001b[0;32mas\u001b[0m \u001b[0mf\u001b[0m\u001b[0;34m:\u001b[0m\u001b[0;34m\u001b[0m\u001b[0;34m\u001b[0m\u001b[0m\n\u001b[0m\u001b[1;32m      3\u001b[0m     \u001b[0;32mfor\u001b[0m \u001b[0mline\u001b[0m \u001b[0;32min\u001b[0m \u001b[0mf\u001b[0m\u001b[0;34m:\u001b[0m\u001b[0;34m\u001b[0m\u001b[0;34m\u001b[0m\u001b[0m\n\u001b[1;32m      4\u001b[0m         \u001b[0mprint\u001b[0m\u001b[0;34m(\u001b[0m\u001b[0mline\u001b[0m\u001b[0;34m)\u001b[0m\u001b[0;34m\u001b[0m\u001b[0;34m\u001b[0m\u001b[0m\n",
            "\u001b[0;31mFileNotFoundError\u001b[0m: [Errno 2] No such file or directory: 'myfile.txt'"
          ]
        }
      ]
    },
    {
      "cell_type": "code",
      "source": [
        "import json\n",
        "with open(\"myfile2.txt\", \"w+\") as file:\n",
        "    file.write(json.dumps(contents)) # writes an object to a file"
      ],
      "metadata": {
        "id": "5kg47GQrZiFR"
      },
      "execution_count": null,
      "outputs": []
    },
    {
      "cell_type": "code",
      "source": [
        "# Reading from a file\n",
        "with open('myfile1.txt', \"r+\") as file:\n",
        "    contents = file.read()           # reads a string from a file\n",
        "print(contents)"
      ],
      "metadata": {
        "colab": {
          "base_uri": "https://localhost:8080/"
        },
        "id": "gm9jpljFkFj4",
        "outputId": "0e786ac4-781b-4ed3-93fc-b4f76ac09553"
      },
      "execution_count": null,
      "outputs": [
        {
          "output_type": "stream",
          "name": "stdout",
          "text": [
            "{'aa': 12, 'bb': 21}\n"
          ]
        }
      ]
    },
    {
      "cell_type": "code",
      "source": [
        "# print: {\"aa\": 12, \"bb\": 21}\n",
        "\n",
        "with open('myfile2.txt', \"r+\") as file:\n",
        "    contents = json.load(file)       # reads a json object from a file\n",
        "print(contents)"
      ],
      "metadata": {
        "colab": {
          "base_uri": "https://localhost:8080/"
        },
        "id": "IQaVhvBDkIVz",
        "outputId": "9c698f8c-934b-4900-946d-3080d55686a8"
      },
      "execution_count": null,
      "outputs": [
        {
          "output_type": "stream",
          "name": "stdout",
          "text": [
            "{'aa': 12, 'bb': 21}\n"
          ]
        }
      ]
    },
    {
      "cell_type": "code",
      "source": [
        "# print: {\"aa\": 12, \"bb\": 21}\n",
        "\n",
        "\n",
        "# Python offers a fundamental abstraction called the Iterable.\n",
        "# An iterable is an object that can be treated as a sequence.\n",
        "# The object returned by the range function, is an iterable.\n",
        "\n",
        "filled_dict = {\"one\": 1, \"two\": 2, \"three\": 3}\n",
        "our_iterable = filled_dict.keys()\n",
        "print(our_iterable)  # => dict_keys(['one', 'two', 'three']). This is an object\n",
        "                     # that implements our Iterable interface."
      ],
      "metadata": {
        "colab": {
          "base_uri": "https://localhost:8080/"
        },
        "id": "C2COyTawkNra",
        "outputId": "dbe2e2cd-e732-4162-9399-f3db0a945afd"
      },
      "execution_count": null,
      "outputs": [
        {
          "output_type": "stream",
          "name": "stdout",
          "text": [
            "dict_keys(['one', 'two', 'three'])\n"
          ]
        }
      ]
    },
    {
      "cell_type": "code",
      "source": [
        "# We can loop over it.\n",
        "for i in our_iterable:\n",
        "    print(i)  # Prints one, two, three"
      ],
      "metadata": {
        "colab": {
          "base_uri": "https://localhost:8080/"
        },
        "id": "1ZrczFuukV4X",
        "outputId": "a6d0ff6b-c228-485c-99c7-8577889296a3"
      },
      "execution_count": null,
      "outputs": [
        {
          "output_type": "stream",
          "name": "stdout",
          "text": [
            "one\n",
            "two\n",
            "three\n"
          ]
        }
      ]
    },
    {
      "cell_type": "code",
      "source": [
        "# However we cannot address elements by index.\n",
        "our_iterable[1]  # Raises a TypeError"
      ],
      "metadata": {
        "colab": {
          "base_uri": "https://localhost:8080/",
          "height": 200
        },
        "id": "1Egc2kcnkZX2",
        "outputId": "f16fd921-dc8d-4658-f471-b9db70603d66"
      },
      "execution_count": null,
      "outputs": [
        {
          "output_type": "error",
          "ename": "TypeError",
          "evalue": "ignored",
          "traceback": [
            "\u001b[0;31m---------------------------------------------------------------------------\u001b[0m",
            "\u001b[0;31mTypeError\u001b[0m                                 Traceback (most recent call last)",
            "\u001b[0;32m<ipython-input-170-67296589dd53>\u001b[0m in \u001b[0;36m<cell line: 2>\u001b[0;34m()\u001b[0m\n\u001b[1;32m      1\u001b[0m \u001b[0;31m# However we cannot address elements by index.\u001b[0m\u001b[0;34m\u001b[0m\u001b[0;34m\u001b[0m\u001b[0m\n\u001b[0;32m----> 2\u001b[0;31m \u001b[0mour_iterable\u001b[0m\u001b[0;34m[\u001b[0m\u001b[0;36m1\u001b[0m\u001b[0;34m]\u001b[0m  \u001b[0;31m# Raises a TypeError\u001b[0m\u001b[0;34m\u001b[0m\u001b[0;34m\u001b[0m\u001b[0m\n\u001b[0m",
            "\u001b[0;31mTypeError\u001b[0m: 'dict_keys' object is not subscriptable"
          ]
        }
      ]
    },
    {
      "cell_type": "code",
      "source": [
        "# An iterable is an object that knows how to create an iterator.\n",
        "our_iterator = iter(our_iterable)"
      ],
      "metadata": {
        "id": "Ae4wyv5TkpSd"
      },
      "execution_count": null,
      "outputs": []
    },
    {
      "cell_type": "code",
      "source": [
        "# Our iterator is an object that can remember the state as we traverse through\n",
        "# it. We get the next object with \"next()\".\n",
        "next(our_iterator)  # => \"one\""
      ],
      "metadata": {
        "colab": {
          "base_uri": "https://localhost:8080/",
          "height": 36
        },
        "id": "g4fUuQvfkrWo",
        "outputId": "fda5ef5f-9ea3-4718-bd18-f66248d4dd7f"
      },
      "execution_count": null,
      "outputs": [
        {
          "output_type": "execute_result",
          "data": {
            "text/plain": [
              "'one'"
            ],
            "application/vnd.google.colaboratory.intrinsic+json": {
              "type": "string"
            }
          },
          "metadata": {},
          "execution_count": 172
        }
      ]
    },
    {
      "cell_type": "code",
      "source": [
        "# It maintains state as we iterate.\n",
        "next(our_iterator)  # => \"two\""
      ],
      "metadata": {
        "colab": {
          "base_uri": "https://localhost:8080/",
          "height": 36
        },
        "id": "jtmI8DGjla03",
        "outputId": "309720c1-fab4-4604-c9a2-1e3a94532bd7"
      },
      "execution_count": null,
      "outputs": [
        {
          "output_type": "execute_result",
          "data": {
            "text/plain": [
              "'two'"
            ],
            "application/vnd.google.colaboratory.intrinsic+json": {
              "type": "string"
            }
          },
          "metadata": {},
          "execution_count": 173
        }
      ]
    },
    {
      "cell_type": "code",
      "source": [
        "next(our_iterator)  # => \"three\""
      ],
      "metadata": {
        "colab": {
          "base_uri": "https://localhost:8080/",
          "height": 36
        },
        "id": "a-gLDX94le6l",
        "outputId": "ab4f82bc-d4e5-4e64-89ea-5c92e88cf23d"
      },
      "execution_count": null,
      "outputs": [
        {
          "output_type": "execute_result",
          "data": {
            "text/plain": [
              "'three'"
            ],
            "application/vnd.google.colaboratory.intrinsic+json": {
              "type": "string"
            }
          },
          "metadata": {},
          "execution_count": 174
        }
      ]
    },
    {
      "cell_type": "code",
      "source": [
        "# After the iterator has returned all of its data, it raises a\n",
        "# StopIteration exception\n",
        "next(our_iterator)  # Raises StopIteration\n"
      ],
      "metadata": {
        "colab": {
          "base_uri": "https://localhost:8080/",
          "height": 219
        },
        "id": "t48Ocx6QliJY",
        "outputId": "e9c88da9-068e-4c26-b156-5e1eeb0d2bb5"
      },
      "execution_count": null,
      "outputs": [
        {
          "output_type": "error",
          "ename": "StopIteration",
          "evalue": "ignored",
          "traceback": [
            "\u001b[0;31m---------------------------------------------------------------------------\u001b[0m",
            "\u001b[0;31mStopIteration\u001b[0m                             Traceback (most recent call last)",
            "\u001b[0;32m<ipython-input-175-d5f3f5447147>\u001b[0m in \u001b[0;36m<cell line: 3>\u001b[0;34m()\u001b[0m\n\u001b[1;32m      1\u001b[0m \u001b[0;31m# After the iterator has returned all of its data, it raises a\u001b[0m\u001b[0;34m\u001b[0m\u001b[0;34m\u001b[0m\u001b[0m\n\u001b[1;32m      2\u001b[0m \u001b[0;31m# StopIteration exception\u001b[0m\u001b[0;34m\u001b[0m\u001b[0;34m\u001b[0m\u001b[0m\n\u001b[0;32m----> 3\u001b[0;31m \u001b[0mnext\u001b[0m\u001b[0;34m(\u001b[0m\u001b[0mour_iterator\u001b[0m\u001b[0;34m)\u001b[0m  \u001b[0;31m# Raises StopIteration\u001b[0m\u001b[0;34m\u001b[0m\u001b[0;34m\u001b[0m\u001b[0m\n\u001b[0m",
            "\u001b[0;31mStopIteration\u001b[0m: "
          ]
        }
      ]
    },
    {
      "cell_type": "code",
      "source": [
        "# We can also loop over it, in fact, \"for\" does this implicitly!\n",
        "our_iterator = iter(our_iterable)\n",
        "for i in our_iterator:\n",
        "    print(i)  # Prints one, two, three\n"
      ],
      "metadata": {
        "colab": {
          "base_uri": "https://localhost:8080/"
        },
        "id": "8p6qAmtoltZn",
        "outputId": "dfb1df49-8528-496a-9e88-92c37a94d1b2"
      },
      "execution_count": null,
      "outputs": [
        {
          "output_type": "stream",
          "name": "stdout",
          "text": [
            "one\n",
            "two\n",
            "three\n"
          ]
        }
      ]
    },
    {
      "cell_type": "code",
      "source": [
        "# You can grab all the elements of an iterable or iterator by call of list().\n",
        "list(our_iterable)  # => Returns [\"one\", \"two\", \"three\"]\n",
        "list(our_iterator)  # => Returns [] because state is saved\n"
      ],
      "metadata": {
        "colab": {
          "base_uri": "https://localhost:8080/"
        },
        "id": "tq0i4jwumE2Q",
        "outputId": "2a248c6e-af48-4af8-e080-e45aacf59bdf"
      },
      "execution_count": null,
      "outputs": [
        {
          "output_type": "execute_result",
          "data": {
            "text/plain": [
              "[]"
            ]
          },
          "metadata": {},
          "execution_count": 177
        }
      ]
    },
    {
      "cell_type": "markdown",
      "source": [
        "\n",
        "####################################################\n",
        "## 4. Functions\n",
        "####################################################"
      ],
      "metadata": {
        "id": "tYPfSI3OmGc6"
      }
    },
    {
      "cell_type": "code",
      "source": [
        "# Use \"def\" to create new functions\n",
        "def add(x, y):\n",
        "    print(\"x is {} and y is {}\".format(x, y))\n",
        "    return x + y  # Return values with a return statement\n"
      ],
      "metadata": {
        "id": "kzVuc9lTmJLS"
      },
      "execution_count": null,
      "outputs": []
    },
    {
      "cell_type": "code",
      "source": [
        "# Calling functions with parameters\n",
        "add(5, 6)  # => prints out \"x is 5 and y is 6\" and returns 11\n"
      ],
      "metadata": {
        "colab": {
          "base_uri": "https://localhost:8080/"
        },
        "id": "iTjWIORQmLoX",
        "outputId": "e19be61b-ba91-4941-9a0e-e9f68835188d"
      },
      "execution_count": null,
      "outputs": [
        {
          "output_type": "stream",
          "name": "stdout",
          "text": [
            "x is 5 and y is 6\n"
          ]
        },
        {
          "output_type": "execute_result",
          "data": {
            "text/plain": [
              "11"
            ]
          },
          "metadata": {},
          "execution_count": 179
        }
      ]
    },
    {
      "cell_type": "code",
      "source": [
        "# Another way to call functions is with keyword arguments\n",
        "add(y=6, x=5)  # Keyword arguments can arrive in any order.\n"
      ],
      "metadata": {
        "colab": {
          "base_uri": "https://localhost:8080/"
        },
        "id": "-UNaoReqmQCH",
        "outputId": "2d01162b-09b0-4cb5-c7aa-7615ae7df340"
      },
      "execution_count": null,
      "outputs": [
        {
          "output_type": "stream",
          "name": "stdout",
          "text": [
            "x is 5 and y is 6\n"
          ]
        },
        {
          "output_type": "execute_result",
          "data": {
            "text/plain": [
              "11"
            ]
          },
          "metadata": {},
          "execution_count": 180
        }
      ]
    },
    {
      "cell_type": "code",
      "source": [
        "# You can define functions that take a variable number of\n",
        "# positional arguments\n",
        "def varargs(*args):\n",
        "    return args\n",
        "\n",
        "varargs(1, 2, 3)  # => (1, 2, 3)\n"
      ],
      "metadata": {
        "colab": {
          "base_uri": "https://localhost:8080/"
        },
        "id": "buTVkWy8mT2n",
        "outputId": "426054e3-1cf0-4e8d-a188-da3299ca951d"
      },
      "execution_count": null,
      "outputs": [
        {
          "output_type": "execute_result",
          "data": {
            "text/plain": [
              "(1, 2, 3)"
            ]
          },
          "metadata": {},
          "execution_count": 181
        }
      ]
    },
    {
      "cell_type": "code",
      "source": [
        "# You can define functions that take a variable number of\n",
        "# keyword arguments, as well\n",
        "def keyword_args(**kwargs):\n",
        "    return kwargs\n",
        "\n",
        "# Let's call it to see what happens\n",
        "keyword_args(big=\"foot\", loch=\"ness\")  # => {\"big\": \"foot\", \"loch\": \"ness\"}\n"
      ],
      "metadata": {
        "colab": {
          "base_uri": "https://localhost:8080/"
        },
        "id": "U1LD_aq6mXlV",
        "outputId": "49f61607-62f3-467d-9ab6-37d82f9a2d0d"
      },
      "execution_count": null,
      "outputs": [
        {
          "output_type": "execute_result",
          "data": {
            "text/plain": [
              "{'big': 'foot', 'loch': 'ness'}"
            ]
          },
          "metadata": {},
          "execution_count": 182
        }
      ]
    },
    {
      "cell_type": "code",
      "source": [
        "# You can do both at once, if you like\n",
        "def all_the_args(*args, **kwargs):\n",
        "    print(args)\n",
        "    print(kwargs)\n",
        "# \"\"\"\n",
        "# all_the_args(1, 2, a=3, b=4) prints:\n",
        "#     (1, 2)\n",
        "#     {\"a\": 3, \"b\": 4}\n",
        "# \"\"\"\n"
      ],
      "metadata": {
        "id": "qofzfxlamc_D"
      },
      "execution_count": null,
      "outputs": []
    },
    {
      "cell_type": "code",
      "source": [
        "# When calling functions, you can do the opposite of args/kwargs!\n",
        "# Use * to expand args (tuples) and use ** to expand kwargs (dictionaries).\n",
        "args = (1, 2, 3, 4)\n",
        "kwargs = {\"a\": 3, \"b\": 4}\n",
        "all_the_args(*args)            # equivalent: all_the_args(1, 2, 3, 4)\n",
        "all_the_args(**kwargs)         # equivalent: all_the_args(a=3, b=4)\n",
        "all_the_args(*args, **kwargs)  # equivalent: all_the_args(1, 2, 3, 4, a=3, b=4)"
      ],
      "metadata": {
        "colab": {
          "base_uri": "https://localhost:8080/"
        },
        "id": "Gedo1v4amhpo",
        "outputId": "4f2b5ab6-5976-4df9-90ae-2b1899924885"
      },
      "execution_count": null,
      "outputs": [
        {
          "output_type": "stream",
          "name": "stdout",
          "text": [
            "(1, 2, 3, 4)\n",
            "{}\n",
            "()\n",
            "{'a': 3, 'b': 4}\n",
            "(1, 2, 3, 4)\n",
            "{'a': 3, 'b': 4}\n"
          ]
        }
      ]
    },
    {
      "cell_type": "code",
      "source": [
        "# Returning multiple values (with tuple assignments)\n",
        "def swap(x, y):\n",
        "    return y, x  # Return multiple values as a tuple without the parenthesis.\n",
        "                 # (Note: parenthesis have been excluded but can be included)\n",
        "\n",
        "x = 1\n",
        "y = 2\n",
        "x, y = swap(x, y)     # => x = 2, y = 1\n",
        "# (x, y) = swap(x,y)  # Again the use of parenthesis is optional.\n"
      ],
      "metadata": {
        "id": "aOVR0T_2mzXn"
      },
      "execution_count": null,
      "outputs": []
    },
    {
      "cell_type": "code",
      "source": [
        "# global scope\n",
        "x = 5\n",
        "\n",
        "def set_x(num):\n",
        "    # local scope begins here\n",
        "    # local var x not the same as global var x\n",
        "    x = num    # => 43\n",
        "    print(x)   # => 43"
      ],
      "metadata": {
        "id": "rxoX5W9Bm2z6"
      },
      "execution_count": null,
      "outputs": []
    },
    {
      "cell_type": "code",
      "source": [
        "def set_global_x(num):\n",
        "    # global indicates that particular var lives in the global scope\n",
        "    global x\n",
        "    print(x)   # => 5\n",
        "    x = num    # global var x is now set to 6\n",
        "    print(x)   # => 6"
      ],
      "metadata": {
        "id": "qrCahrpenAQ6"
      },
      "execution_count": null,
      "outputs": []
    },
    {
      "cell_type": "code",
      "source": [
        "\n",
        "\n",
        "# \"\"\"\n",
        "# prints:\n",
        "#     43\n",
        "#     5\n",
        "#     6\n",
        "# \"\"\"\n",
        "set_x(43)\n",
        "set_global_x(6)"
      ],
      "metadata": {
        "colab": {
          "base_uri": "https://localhost:8080/"
        },
        "id": "wk43DcgUnBV4",
        "outputId": "e64587bf-6330-466e-aff3-95af50ae253a"
      },
      "execution_count": null,
      "outputs": [
        {
          "output_type": "stream",
          "name": "stdout",
          "text": [
            "43\n",
            "5\n",
            "6\n"
          ]
        }
      ]
    },
    {
      "cell_type": "code",
      "source": [
        "# Python has first class functions\n",
        "def create_adder(x):\n",
        "    def adder(y):\n",
        "        return x + y\n",
        "    return adder\n",
        "\n",
        "add_10 = create_adder(10)\n",
        "add_10(3)   # => 13\n"
      ],
      "metadata": {
        "colab": {
          "base_uri": "https://localhost:8080/"
        },
        "id": "JrDlYy95nLdP",
        "outputId": "ab835201-8921-40e8-ec2f-543ff254d5c5"
      },
      "execution_count": null,
      "outputs": [
        {
          "output_type": "execute_result",
          "data": {
            "text/plain": [
              "13"
            ]
          },
          "metadata": {},
          "execution_count": 195
        }
      ]
    },
    {
      "cell_type": "code",
      "source": [
        "# There are also anonymous functions\n",
        "(lambda x: x > 2)(3)                  # => True\n",
        "\n"
      ],
      "metadata": {
        "colab": {
          "base_uri": "https://localhost:8080/"
        },
        "id": "Mx8c6KGTnPCR",
        "outputId": "6270aeff-1151-4e80-e5ef-4c2134114e2b"
      },
      "execution_count": null,
      "outputs": [
        {
          "output_type": "execute_result",
          "data": {
            "text/plain": [
              "True"
            ]
          },
          "metadata": {},
          "execution_count": 197
        }
      ]
    },
    {
      "cell_type": "code",
      "source": [
        "(lambda x, y: x ** 2 + y ** 2)(2, 1)  # => 5"
      ],
      "metadata": {
        "colab": {
          "base_uri": "https://localhost:8080/"
        },
        "id": "en0ZKIvAnV57",
        "outputId": "defbce8e-f604-4242-9e2f-a14278327edb"
      },
      "execution_count": null,
      "outputs": [
        {
          "output_type": "execute_result",
          "data": {
            "text/plain": [
              "5"
            ]
          },
          "metadata": {},
          "execution_count": 198
        }
      ]
    },
    {
      "cell_type": "code",
      "source": [
        "# There are built-in higher order functions\n",
        "list(map(add_10, [1, 2, 3]))          # => [11, 12, 13]"
      ],
      "metadata": {
        "colab": {
          "base_uri": "https://localhost:8080/"
        },
        "id": "Yjg9lwuInXBi",
        "outputId": "2673467a-7b93-4174-9aba-29a9e69a695c"
      },
      "execution_count": null,
      "outputs": [
        {
          "output_type": "execute_result",
          "data": {
            "text/plain": [
              "[11, 12, 13]"
            ]
          },
          "metadata": {},
          "execution_count": 200
        }
      ]
    },
    {
      "cell_type": "code",
      "source": [
        "list(map(max, [1, 2, 3], [4, 2, 1]))  # => [4, 2, 3]"
      ],
      "metadata": {
        "colab": {
          "base_uri": "https://localhost:8080/"
        },
        "id": "NgYlo-pTnjSZ",
        "outputId": "1b5dcc78-8368-491e-849a-1e76aab06d83"
      },
      "execution_count": null,
      "outputs": [
        {
          "output_type": "execute_result",
          "data": {
            "text/plain": [
              "[4, 2, 3]"
            ]
          },
          "metadata": {},
          "execution_count": 201
        }
      ]
    },
    {
      "cell_type": "code",
      "source": [
        "list(filter(lambda x: x > 5, [3, 4, 5, 6, 7]))  # => [6, 7]"
      ],
      "metadata": {
        "colab": {
          "base_uri": "https://localhost:8080/"
        },
        "id": "3mk9toppnl15",
        "outputId": "3509cfd5-ee96-4838-b1f2-891fb7476b6b"
      },
      "execution_count": null,
      "outputs": [
        {
          "output_type": "execute_result",
          "data": {
            "text/plain": [
              "[6, 7]"
            ]
          },
          "metadata": {},
          "execution_count": 202
        }
      ]
    },
    {
      "cell_type": "code",
      "source": [
        "# We can use list comprehensions for nice maps and filters\n",
        "# List comprehension stores the output as a list (which itself may be nested).\n",
        "[add_10(i) for i in [1, 2, 3]]         # => [11, 12, 13]"
      ],
      "metadata": {
        "colab": {
          "base_uri": "https://localhost:8080/"
        },
        "id": "py9SNotUnrRt",
        "outputId": "855e6446-cbc6-4cf5-b1f6-b277bb14b43b"
      },
      "execution_count": null,
      "outputs": [
        {
          "output_type": "execute_result",
          "data": {
            "text/plain": [
              "[11, 12, 13]"
            ]
          },
          "metadata": {},
          "execution_count": 203
        }
      ]
    },
    {
      "cell_type": "code",
      "source": [
        "[x for x in [3, 4, 5, 6, 7] if x > 5]  # => [6, 7]\n"
      ],
      "metadata": {
        "colab": {
          "base_uri": "https://localhost:8080/"
        },
        "id": "G-Im0ugenuyz",
        "outputId": "512d55c1-9f03-44d6-b7f5-8fe4479b186a"
      },
      "execution_count": null,
      "outputs": [
        {
          "output_type": "execute_result",
          "data": {
            "text/plain": [
              "[6, 7]"
            ]
          },
          "metadata": {},
          "execution_count": 204
        }
      ]
    },
    {
      "cell_type": "code",
      "source": [
        "# You can construct set and dict comprehensions as well.\n",
        "{x for x in 'abcddeef' if x not in 'abc'}  # => {'d', 'e', 'f'}"
      ],
      "metadata": {
        "colab": {
          "base_uri": "https://localhost:8080/"
        },
        "id": "Oo6-amXZnxoB",
        "outputId": "b4179b2e-34ec-4bb3-b4b7-efebf44ef1d4"
      },
      "execution_count": null,
      "outputs": [
        {
          "output_type": "execute_result",
          "data": {
            "text/plain": [
              "{'d', 'e', 'f'}"
            ]
          },
          "metadata": {},
          "execution_count": 205
        }
      ]
    },
    {
      "cell_type": "code",
      "source": [
        "{x: x**2 for x in range(5)}  # => {0: 0, 1: 1, 2: 4, 3: 9, 4: 16}"
      ],
      "metadata": {
        "colab": {
          "base_uri": "https://localhost:8080/"
        },
        "id": "heLpNcd8n1aj",
        "outputId": "30452b79-5919-4ba3-f75d-bf69d1c6555c"
      },
      "execution_count": null,
      "outputs": [
        {
          "output_type": "execute_result",
          "data": {
            "text/plain": [
              "{0: 0, 1: 1, 2: 4, 3: 9, 4: 16}"
            ]
          },
          "metadata": {},
          "execution_count": 206
        }
      ]
    },
    {
      "cell_type": "markdown",
      "source": [
        "####################################################\n",
        "## 5. Modules\n",
        "####################################################"
      ],
      "metadata": {
        "id": "Vs7CA8MSn8fo"
      }
    },
    {
      "cell_type": "code",
      "source": [
        "# You can import modules\n",
        "import math\n",
        "print(math.sqrt(16))  # => 4.0"
      ],
      "metadata": {
        "colab": {
          "base_uri": "https://localhost:8080/"
        },
        "id": "0nz-ZmwJn5sI",
        "outputId": "4ade6531-5dc7-4922-d46f-db2489db871f"
      },
      "execution_count": null,
      "outputs": [
        {
          "output_type": "stream",
          "name": "stdout",
          "text": [
            "4.0\n"
          ]
        }
      ]
    },
    {
      "cell_type": "code",
      "source": [
        "# You can get specific functions from a module\n",
        "from math import ceil, floor\n",
        "print(ceil(3.7))   # => 4\n"
      ],
      "metadata": {
        "colab": {
          "base_uri": "https://localhost:8080/"
        },
        "id": "QDl7HgfFoHL2",
        "outputId": "81a87948-9ee5-47dd-a6c5-d87408c8d0fe"
      },
      "execution_count": null,
      "outputs": [
        {
          "output_type": "stream",
          "name": "stdout",
          "text": [
            "4\n"
          ]
        }
      ]
    },
    {
      "cell_type": "code",
      "source": [
        "print(floor(3.7))  # => 3"
      ],
      "metadata": {
        "colab": {
          "base_uri": "https://localhost:8080/"
        },
        "id": "6ITExlwdoNSA",
        "outputId": "fae1842c-a2fe-4e52-fe7d-4f1a1b1e274b"
      },
      "execution_count": null,
      "outputs": [
        {
          "output_type": "stream",
          "name": "stdout",
          "text": [
            "3\n"
          ]
        }
      ]
    },
    {
      "cell_type": "code",
      "source": [
        "# You can import all functions from a module.\n",
        "# Warning: this is not recommended\n",
        "from math import *"
      ],
      "metadata": {
        "id": "f3VGJkvNoQXU"
      },
      "execution_count": null,
      "outputs": []
    },
    {
      "cell_type": "code",
      "source": [
        "# You can shorten module names\n",
        "import math as m\n",
        "math.sqrt(16) == m.sqrt(16)  # => True"
      ],
      "metadata": {
        "colab": {
          "base_uri": "https://localhost:8080/"
        },
        "id": "9QbKl8LioUgJ",
        "outputId": "b828131f-f753-4ff9-aa5d-458109a797a7"
      },
      "execution_count": null,
      "outputs": [
        {
          "output_type": "execute_result",
          "data": {
            "text/plain": [
              "True"
            ]
          },
          "metadata": {},
          "execution_count": 212
        }
      ]
    },
    {
      "cell_type": "code",
      "source": [
        "# Python modules are just ordinary Python files. You\n",
        "# can write your own, and import them. The name of the\n",
        "# module is the same as the name of the file.\n",
        "\n",
        "# You can find out which functions and attributes\n",
        "# are defined in a module.\n",
        "import math\n",
        "dir(math)\n",
        "\n",
        "\n",
        "# If you have a Python script named math.py in the same\n",
        "# folder as your current script, the file math.py will\n",
        "# be loaded instead of the built-in Python module.\n",
        "# This happens because the local folder has priority\n",
        "# over Python's built-in libraries."
      ],
      "metadata": {
        "colab": {
          "base_uri": "https://localhost:8080/"
        },
        "id": "jJ7YlFXfocOp",
        "outputId": "d9c1c338-0e2b-4bee-db59-1cc07ff0a92e"
      },
      "execution_count": null,
      "outputs": [
        {
          "output_type": "execute_result",
          "data": {
            "text/plain": [
              "['__doc__',\n",
              " '__loader__',\n",
              " '__name__',\n",
              " '__package__',\n",
              " '__spec__',\n",
              " 'acos',\n",
              " 'acosh',\n",
              " 'asin',\n",
              " 'asinh',\n",
              " 'atan',\n",
              " 'atan2',\n",
              " 'atanh',\n",
              " 'ceil',\n",
              " 'comb',\n",
              " 'copysign',\n",
              " 'cos',\n",
              " 'cosh',\n",
              " 'degrees',\n",
              " 'dist',\n",
              " 'e',\n",
              " 'erf',\n",
              " 'erfc',\n",
              " 'exp',\n",
              " 'expm1',\n",
              " 'fabs',\n",
              " 'factorial',\n",
              " 'floor',\n",
              " 'fmod',\n",
              " 'frexp',\n",
              " 'fsum',\n",
              " 'gamma',\n",
              " 'gcd',\n",
              " 'hypot',\n",
              " 'inf',\n",
              " 'isclose',\n",
              " 'isfinite',\n",
              " 'isinf',\n",
              " 'isnan',\n",
              " 'isqrt',\n",
              " 'lcm',\n",
              " 'ldexp',\n",
              " 'lgamma',\n",
              " 'log',\n",
              " 'log10',\n",
              " 'log1p',\n",
              " 'log2',\n",
              " 'modf',\n",
              " 'nan',\n",
              " 'nextafter',\n",
              " 'perm',\n",
              " 'pi',\n",
              " 'pow',\n",
              " 'prod',\n",
              " 'radians',\n",
              " 'remainder',\n",
              " 'sin',\n",
              " 'sinh',\n",
              " 'sqrt',\n",
              " 'tan',\n",
              " 'tanh',\n",
              " 'tau',\n",
              " 'trunc',\n",
              " 'ulp']"
            ]
          },
          "metadata": {},
          "execution_count": 213
        }
      ]
    },
    {
      "cell_type": "markdown",
      "source": [
        "\n",
        "####################################################\n",
        "## 6. Classes\n",
        "####################################################\n"
      ],
      "metadata": {
        "id": "awUUWZRColSF"
      }
    },
    {
      "cell_type": "code",
      "source": [
        "# One of the most important method for a class is the Constructor.\n",
        "# In Python, it has name of __init__ by default.\n",
        "# The first parameter to this function (in its definition) is self which refers to the current object that is being instantiated.\n",
        "\n",
        "# Rest of the parameters can be used to initialize the values of all attributes.\n",
        "\n",
        "# There are certain methods that can be considered as standard methods within the Python language. For example, getting a string representation of the object or a length function (if it can be applied to a particular object).\n",
        "# __len__ for length\n",
        "# __str__ for String representation\n",
        "\n",
        "\n",
        "\n",
        "class BankAccount:\n",
        "\n",
        "    acctCount=0 #class object method\n",
        "\n",
        "    def __init__(self, name, balance=0): #constructor\n",
        "\n",
        "      BankAccount.acctCount+=1 #incrementing class object method\n",
        "      self.name= name # instance attribute to store name of bankaccount\n",
        "      self.balance= balance # instance attribute to store balance of bank account\n",
        "      #you can add more attributes here and initialize them, (using parameter\n",
        "      #or some default value\n",
        "\n",
        "    def displayCount(): #static method\n",
        "        '''Method to display number of accounts created'''\n",
        "        print(\"Total Accounts\", BankAccount.acctCount) #using class name\n",
        "\n",
        "    def displayName(self): #instance method\n",
        "        '''Method to print name of the account'''\n",
        "        print(\"Name: \",self.name)\n",
        "\n",
        "    def Credit(self, amount):\n",
        "        '''Method to deduce credit from the account'''\n",
        "        self.balance-=amount\n",
        "\n",
        "    def Debit(self, amount):\n",
        "        '''Method to increase debit into the account'''\n",
        "        self.balance+=amount\n",
        "\n",
        "    def getBalance(self):\n",
        "        '''Method to get balance of the account'''\n",
        "        return self.balance\n",
        "\n",
        "\n",
        "\n",
        "    def __str__(self):\n",
        "        '''Method to return string representation of the account'''\n",
        "        return \"Name: \" + self.name + \", Balance: \"+ str(self.balance)"
      ],
      "metadata": {
        "id": "hwg8AjWFpDOz"
      },
      "execution_count": null,
      "outputs": []
    },
    {
      "cell_type": "code",
      "source": [
        "#create an bankaccount Ahmed with balance of 1000\n",
        "acct1= BankAccount('Ahmed',2000)\n",
        "#create an bankaccount Asad with balance of 5000\n",
        "acct2= BankAccount('Asad',5000)\n"
      ],
      "metadata": {
        "id": "Xt65bZZRzLU6"
      },
      "execution_count": null,
      "outputs": []
    },
    {
      "cell_type": "code",
      "source": [
        "#calling instance function\n",
        "acct1.displayName()\n",
        "\n",
        "acct1.Credit(25)\n",
        "\n",
        "acct1.getBalance()"
      ],
      "metadata": {
        "id": "LRW292dnyA3a",
        "colab": {
          "base_uri": "https://localhost:8080/"
        },
        "outputId": "d1eb013b-f102-4e45-c51e-8530318de314"
      },
      "execution_count": null,
      "outputs": [
        {
          "output_type": "stream",
          "name": "stdout",
          "text": [
            "Name:  Ahmed\n"
          ]
        },
        {
          "output_type": "execute_result",
          "data": {
            "text/plain": [
              "1975"
            ]
          },
          "metadata": {},
          "execution_count": 3
        }
      ]
    },
    {
      "cell_type": "code",
      "source": [
        "#calling __str__ function\n",
        "print(acct1)"
      ],
      "metadata": {
        "colab": {
          "base_uri": "https://localhost:8080/"
        },
        "id": "xm5MDEUizOdR",
        "outputId": "1f11fa3c-d496-44aa-e9bb-bae402d028be"
      },
      "execution_count": null,
      "outputs": [
        {
          "output_type": "stream",
          "name": "stdout",
          "text": [
            "Name: Ahmed, Balance: 1975\n"
          ]
        }
      ]
    },
    {
      "cell_type": "code",
      "source": [],
      "metadata": {
        "id": "8GAxPpbszQft"
      },
      "execution_count": null,
      "outputs": []
    }
  ]
}