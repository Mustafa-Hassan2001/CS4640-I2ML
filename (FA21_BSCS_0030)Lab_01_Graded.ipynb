{
  "nbformat": 4,
  "nbformat_minor": 0,
  "metadata": {
    "colab": {
      "provenance": []
    },
    "kernelspec": {
      "name": "python3",
      "display_name": "Python 3"
    },
    "language_info": {
      "name": "python"
    }
  },
  "cells": [
    {
      "cell_type": "markdown",
      "source": [
        "# **Task 01**\n",
        "\n",
        "Create a nested dictionary representing a student database with information such as name, age, and grades for multiple students. Then, calculate the average grade for each student.\n",
        "\n",
        "Input:\n",
        "```\n",
        "students = {\n",
        "    \"student 1\": {\"age\": 15, \"grades\": [86, 55, 38]},\n",
        "    \"student 2\": {\"age\": 17, \"grades\": [85, 92, 69]},\n",
        "    # Add more students...\n",
        "}\n",
        "```\n",
        "\n",
        "\n",
        "Expected Output:\n",
        "\n",
        "{'student 1': 59.666666666666664, 'student 2': 82.0}"
      ],
      "metadata": {
        "id": "VpYconGQ0xoJ"
      }
    },
    {
      "cell_type": "code",
      "execution_count": 32,
      "metadata": {
        "id": "Z8LJOv0Kfb3H",
        "colab": {
          "base_uri": "https://localhost:8080/"
        },
        "outputId": "bd19f3c0-0d3c-4bcb-b640-a5def5e4c689"
      },
      "outputs": [
        {
          "output_type": "execute_result",
          "data": {
            "text/plain": [
              "dict_items([('student 1', {'age': 15, 'grades': [86, 55, 38]}), ('student 2', {'age': 17, 'grades': [85, 92, 98, 99]}), ('student 3', {'age': 19, 'grades': [69, 85, 98]}), ('student 4', {'age': 12, 'grades': [59, 92, 99]}), ('student 5', {'age': 14, 'grades': [88, 55, 93]}), ('student 6', {'age': 16, 'grades': [88, 90, 90]})])"
            ]
          },
          "metadata": {},
          "execution_count": 32
        }
      ],
      "source": [
        "students = {\n",
        "    \"student 1\": {\"age\": 15, \"grades\": [86, 55, 38]},\n",
        "    \"student 2\": {\"age\": 17, \"grades\": [85, 92, 98,99]},\n",
        "    \"student 3\": {\"age\": 19, \"grades\": [69, 85, 98]},\n",
        "    \"student 4\": {\"age\": 12, \"grades\": [59, 92, 99]},\n",
        "    \"student 5\": {\"age\": 14, \"grades\": [88, 55, 93]},\n",
        "    \"student 6\": {\"age\": 16, \"grades\": [88, 90, 90]},\n",
        "}\n",
        "\n",
        "students.items()"
      ]
    },
    {
      "cell_type": "code",
      "source": [
        "avg_grade ={}\n",
        "\n",
        "for student, info in students.items():\n",
        "  grades = info[\"grades\"]\n",
        "  avg_grades = sum(grades) / len(grades)\n",
        "  avg_grade[student] = avg_grades"
      ],
      "metadata": {
        "id": "SIo2VAndx35a"
      },
      "execution_count": 33,
      "outputs": []
    },
    {
      "cell_type": "code",
      "source": [
        "print(avg_grade)"
      ],
      "metadata": {
        "colab": {
          "base_uri": "https://localhost:8080/"
        },
        "id": "HapIC94qsIPe",
        "outputId": "1f693bf0-2aea-432e-b4e0-7cafd2f5e970"
      },
      "execution_count": 35,
      "outputs": [
        {
          "output_type": "stream",
          "name": "stdout",
          "text": [
            "{'student 1': 59.666666666666664, 'student 2': 93.5, 'student 3': 84.0, 'student 4': 83.33333333333333, 'student 5': 78.66666666666667, 'student 6': 89.33333333333333}\n"
          ]
        }
      ]
    },
    {
      "cell_type": "markdown",
      "source": [
        "# **Task 02**\n",
        "\n",
        "Given a list of numbers, use a lambda function to filter out even numbers, square the remaining ones, and then find their sum.\n",
        "\n",
        "Input: numbers = [1, 2, 3, 4, 5, 6, 7, 8, 9]\n",
        "\n",
        "Expected Output: Result will be 165 (1^2 + 3^2 + 5^2 + 7^2 + 9^2)"
      ],
      "metadata": {
        "id": "77_JtPdy1Gpt"
      }
    },
    {
      "cell_type": "code",
      "source": [
        "numbers = [1, 2, 3, 4, 5, 6, 7, 8, 9]\n",
        "numbers2 = list(filter((lambda x: x%2 == 0), numbers))\n",
        "for i in numbers:\n",
        "  for j in numbers2:\n",
        "    if i==j:\n",
        "      numbers.remove(i)\n",
        "res = 0\n",
        "for i in numbers:\n",
        "  res = i*i + res\n",
        "\n",
        "res"
      ],
      "metadata": {
        "colab": {
          "base_uri": "https://localhost:8080/"
        },
        "id": "nh7H7tvCzThg",
        "outputId": "ef9ea8c0-1dcd-47bd-a3cf-c28039b77e0c"
      },
      "execution_count": null,
      "outputs": [
        {
          "output_type": "execute_result",
          "data": {
            "text/plain": [
              "165"
            ]
          },
          "metadata": {},
          "execution_count": 25
        }
      ]
    },
    {
      "cell_type": "markdown",
      "source": [
        "# **Task 03**\n",
        "\n",
        "Given a text string, create a list of unique words (case-insensitive) using list comprehension.\n",
        "\n",
        "Input: text = \"This is a sample text with some repeated words. This is a sample.\"\n",
        "\n",
        "Expected Output: ['sample', 'text', 'words.', 'sample.', 'repeated', 'is' 'some', 'a', 'this', 'with']"
      ],
      "metadata": {
        "id": "JmD6R_rC1LsS"
      }
    },
    {
      "cell_type": "code",
      "source": [
        "text = input(\"Enter your text here: \")\n",
        "unique_words = list(set(word.lower() for word in text.split()))\n",
        "print(unique_words)"
      ],
      "metadata": {
        "id": "DVBqZL0w1Mbr",
        "colab": {
          "base_uri": "https://localhost:8080/"
        },
        "outputId": "f4896dd7-a88f-430f-f35c-c1ebae04e049"
      },
      "execution_count": 36,
      "outputs": [
        {
          "output_type": "stream",
          "name": "stdout",
          "text": [
            "Enter your text here: This is a sample text with some repeated words. This is a sample.\n",
            "['this', 'sample.', 'sample', 'is', 'text', 'with', 'some', 'repeated', 'a', 'words.']\n"
          ]
        }
      ]
    },
    {
      "cell_type": "markdown",
      "source": [
        "# **Task no 04**\n",
        "\n",
        "Write a function in which you ask for the following details from the user.\n",
        "\n",
        "Name\n",
        "username\n",
        "Degree Program\n",
        "Age\n",
        "Contact\n",
        "Percentage\n",
        "Gender\n",
        "isPassed (bool)\n",
        "After receiving the values of the attributes you have to save the data in a dictionary name as UserData at index 0. repeat the process five times with an increment of index = index +1.\n",
        "\n",
        "in the end, create a file named your id, save all the data in the file, and close it.\n",
        "\n",
        "\n",
        "\n",
        "```\n",
        "# Writing to a file\n",
        "contents = {\"aa\": 12, \"bb\": 21} #\n",
        "with open(\"myfile1.txt\", \"w+\") as file:\n",
        "    file.write(str(contents))        # writes a string to a file\n",
        "\n",
        "\n",
        "OR\n",
        "\n",
        "import json\n",
        "with open(\"myfile2.txt\", \"w+\") as file:\n",
        "    file.write(json.dumps(contents)) # writes an object to a file\n",
        "```\n",
        "\n"
      ],
      "metadata": {
        "id": "9PZFuaxV1SX8"
      }
    },
    {
      "cell_type": "code",
      "source": [
        "import json\n",
        "\n",
        "def save_user_data():\n",
        "    UserData = {}\n",
        "    for i in range(5):\n",
        "        name = input(\"Enter name: \")\n",
        "        username = input(\"Enter username: \")\n",
        "        degree = input(\"Enter degree: \")\n",
        "        program = input(\"Enter program: \")\n",
        "        age = int(input(\"Enter age: \"))\n",
        "        contact = input(\"Enter contact: \")\n",
        "        percentage = float(input(\"Enter percentage: \"))\n",
        "        gender = input(\"Enter gender: \")\n",
        "        is_passed = input(\"Has the user passed? (True/False): \").lower() == 'true'\n",
        "\n",
        "        UserData[i] = {\n",
        "            \"Name\": name,\n",
        "            \"Username\": username,\n",
        "            \"Degree\": degree,\n",
        "            \"Program\": program,\n",
        "            \"Age\": age,\n",
        "            \"Contact\": contact,\n",
        "            \"Percentage\": percentage,\n",
        "            \"Gender\": gender,\n",
        "            \"IsPassed\": is_passed\n",
        "        }\n",
        "\n",
        "    # Save data to a file\n",
        "    file_name = input(\"Enter your ID: \") + \".txt\"\n",
        "    with open(file_name, \"w+\") as file:\n",
        "        file.write(json.dumps(UserData))\n",
        "\n",
        "save_user_data()"
      ],
      "metadata": {
        "id": "6QpeYTf51UQ9",
        "colab": {
          "base_uri": "https://localhost:8080/"
        },
        "outputId": "52c89c79-1bfc-49c8-8374-5e6f6df152eb"
      },
      "execution_count": 37,
      "outputs": [
        {
          "name": "stdout",
          "output_type": "stream",
          "text": [
            "Enter name: Mustafa\n",
            "Enter username: Mus\n",
            "Enter degree: CS\n",
            "Enter program: CS\n",
            "Enter age: 20\n",
            "Enter contact: 0335\n",
            "Enter percentage: 99.99\n",
            "Enter gender: m\n",
            "Has the user passed? (True/False): T\n",
            "Enter name: Raza\n",
            "Enter username: riz\n",
            "Enter degree: BS\n",
            "Enter program: CS\n",
            "Enter age: 24\n",
            "Enter contact: 0347\n",
            "Enter percentage: 100\n",
            "Enter gender: M\n",
            "Has the user passed? (True/False): n\n",
            "Enter name: Moiz\n",
            "Enter username: mix\n",
            "Enter degree: bs\n",
            "Enter program: cs\n",
            "Enter age: 23\n",
            "Enter contact: 022\n",
            "Enter percentage: 93\n",
            "Enter gender: m\n",
            "Has the user passed? (True/False): F\n",
            "Enter name: sara\n",
            "Enter username: sa\n",
            "Enter degree: bs\n",
            "Enter program: cs\n",
            "Enter age: 22\n",
            "Enter contact: 8336\n",
            "Enter percentage: 99\n",
            "Enter gender: f\n",
            "Has the user passed? (True/False): False\n",
            "Enter name: jd\n",
            "Enter username: nd\n",
            "Enter degree: bd\n",
            "Enter program: bd\n",
            "Enter age: 2\n",
            "Enter contact: 2\n",
            "Enter percentage: 2\n",
            "Enter gender: m\n",
            "Has the user passed? (True/False): false\n",
            "Enter your ID: 1\n"
          ]
        }
      ]
    },
    {
      "cell_type": "code",
      "source": [],
      "metadata": {
        "id": "2X_0-hKUtQIN"
      },
      "execution_count": null,
      "outputs": []
    }
  ]
}